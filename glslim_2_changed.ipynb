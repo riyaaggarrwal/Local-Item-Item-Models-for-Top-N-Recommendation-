{
 "cells": [
  {
   "cell_type": "code",
   "execution_count": 1,
   "metadata": {},
   "outputs": [
    {
     "name": "stdout",
     "output_type": "stream",
     "text": [
      "3.9.13 (main, Aug 25 2022, 23:26:10) \n",
      "[GCC 11.2.0]\n"
     ]
    }
   ],
   "source": [
    "import sys\n",
    "\n",
    "print(sys.version)\n"
   ]
  },
  {
   "cell_type": "code",
   "execution_count": 2,
   "metadata": {
    "id": "-I9b3t_pBqaW"
   },
   "outputs": [],
   "source": [
    "import pandas as pd\n",
    "from random import randint\n",
    "\n",
    "import numpy as np\n",
    "# from scipy import spatial\n",
    "import random"
   ]
  },
  {
   "cell_type": "code",
   "execution_count": 3,
   "metadata": {
    "colab": {
     "base_uri": "https://localhost:8080/"
    },
    "id": "_FtOjJnzCTNN",
    "outputId": "16a73b23-3738-45ab-fcf9-be478cd7c17e"
   },
   "outputs": [
    {
     "name": "stderr",
     "output_type": "stream",
     "text": [
      "/tmp/ipykernel_60616/2193334887.py:1: ParserWarning: Falling back to the 'python' engine because the 'c' engine does not support regex separators (separators > 1 char and different from '\\s+' are interpreted as regex); you can avoid this warning by specifying engine='python'.\n",
      "  data = pd.read_csv('./ratings.dat', sep='::', header = None)  # tab-separated data\n"
     ]
    }
   ],
   "source": [
    "data = pd.read_csv('./ratings.dat', sep='::', header = None)  # tab-separated data"
   ]
  },
  {
   "cell_type": "code",
   "execution_count": 4,
   "metadata": {
    "colab": {
     "base_uri": "https://localhost:8080/",
     "height": 424
    },
    "id": "H1FFkUNsCVvT",
    "outputId": "df885d79-b3ef-43c5-bcfc-a55a8215efe7"
   },
   "outputs": [
    {
     "data": {
      "text/html": [
       "<div>\n",
       "<style scoped>\n",
       "    .dataframe tbody tr th:only-of-type {\n",
       "        vertical-align: middle;\n",
       "    }\n",
       "\n",
       "    .dataframe tbody tr th {\n",
       "        vertical-align: top;\n",
       "    }\n",
       "\n",
       "    .dataframe thead th {\n",
       "        text-align: right;\n",
       "    }\n",
       "</style>\n",
       "<table border=\"1\" class=\"dataframe\">\n",
       "  <thead>\n",
       "    <tr style=\"text-align: right;\">\n",
       "      <th></th>\n",
       "      <th>0</th>\n",
       "      <th>1</th>\n",
       "      <th>2</th>\n",
       "      <th>3</th>\n",
       "    </tr>\n",
       "  </thead>\n",
       "  <tbody>\n",
       "    <tr>\n",
       "      <th>0</th>\n",
       "      <td>1</td>\n",
       "      <td>122</td>\n",
       "      <td>5.0</td>\n",
       "      <td>838985046</td>\n",
       "    </tr>\n",
       "    <tr>\n",
       "      <th>1</th>\n",
       "      <td>1</td>\n",
       "      <td>185</td>\n",
       "      <td>5.0</td>\n",
       "      <td>838983525</td>\n",
       "    </tr>\n",
       "    <tr>\n",
       "      <th>2</th>\n",
       "      <td>1</td>\n",
       "      <td>231</td>\n",
       "      <td>5.0</td>\n",
       "      <td>838983392</td>\n",
       "    </tr>\n",
       "    <tr>\n",
       "      <th>3</th>\n",
       "      <td>1</td>\n",
       "      <td>292</td>\n",
       "      <td>5.0</td>\n",
       "      <td>838983421</td>\n",
       "    </tr>\n",
       "    <tr>\n",
       "      <th>4</th>\n",
       "      <td>1</td>\n",
       "      <td>316</td>\n",
       "      <td>5.0</td>\n",
       "      <td>838983392</td>\n",
       "    </tr>\n",
       "    <tr>\n",
       "      <th>...</th>\n",
       "      <td>...</td>\n",
       "      <td>...</td>\n",
       "      <td>...</td>\n",
       "      <td>...</td>\n",
       "    </tr>\n",
       "    <tr>\n",
       "      <th>95</th>\n",
       "      <td>4</td>\n",
       "      <td>377</td>\n",
       "      <td>3.0</td>\n",
       "      <td>844416892</td>\n",
       "    </tr>\n",
       "    <tr>\n",
       "      <th>96</th>\n",
       "      <td>4</td>\n",
       "      <td>380</td>\n",
       "      <td>3.0</td>\n",
       "      <td>844416656</td>\n",
       "    </tr>\n",
       "    <tr>\n",
       "      <th>97</th>\n",
       "      <td>4</td>\n",
       "      <td>410</td>\n",
       "      <td>5.0</td>\n",
       "      <td>844416936</td>\n",
       "    </tr>\n",
       "    <tr>\n",
       "      <th>98</th>\n",
       "      <td>4</td>\n",
       "      <td>420</td>\n",
       "      <td>3.0</td>\n",
       "      <td>844417004</td>\n",
       "    </tr>\n",
       "    <tr>\n",
       "      <th>99</th>\n",
       "      <td>4</td>\n",
       "      <td>432</td>\n",
       "      <td>3.0</td>\n",
       "      <td>844417070</td>\n",
       "    </tr>\n",
       "  </tbody>\n",
       "</table>\n",
       "<p>100 rows × 4 columns</p>\n",
       "</div>"
      ],
      "text/plain": [
       "    0    1    2          3\n",
       "0   1  122  5.0  838985046\n",
       "1   1  185  5.0  838983525\n",
       "2   1  231  5.0  838983392\n",
       "3   1  292  5.0  838983421\n",
       "4   1  316  5.0  838983392\n",
       ".. ..  ...  ...        ...\n",
       "95  4  377  3.0  844416892\n",
       "96  4  380  3.0  844416656\n",
       "97  4  410  5.0  844416936\n",
       "98  4  420  3.0  844417004\n",
       "99  4  432  3.0  844417070\n",
       "\n",
       "[100 rows x 4 columns]"
      ]
     },
     "execution_count": 4,
     "metadata": {},
     "output_type": "execute_result"
    }
   ],
   "source": [
    "data.head(100)"
   ]
  },
  {
   "cell_type": "code",
   "execution_count": 5,
   "metadata": {
    "colab": {
     "base_uri": "https://localhost:8080/"
    },
    "id": "DCGFcNrECYIg",
    "outputId": "82f9b5c1-07f5-4a19-fba0-f150b459062c"
   },
   "outputs": [
    {
     "name": "stdout",
     "output_type": "stream",
     "text": [
      "<class 'pandas.core.frame.DataFrame'>\n",
      "RangeIndex: 10000054 entries, 0 to 10000053\n",
      "Data columns (total 4 columns):\n",
      " #   Column  Dtype  \n",
      "---  ------  -----  \n",
      " 0   0       int64  \n",
      " 1   1       int64  \n",
      " 2   2       float64\n",
      " 3   3       int64  \n",
      "dtypes: float64(1), int64(3)\n",
      "memory usage: 305.2 MB\n"
     ]
    }
   ],
   "source": [
    "data.info()"
   ]
  },
  {
   "cell_type": "code",
   "execution_count": 6,
   "metadata": {
    "id": "4eMLz3gKCaPc"
   },
   "outputs": [],
   "source": [
    "data.columns=['User_ID','movie_ID','rating','timestamp']"
   ]
  },
  {
   "cell_type": "code",
   "execution_count": 7,
   "metadata": {
    "colab": {
     "base_uri": "https://localhost:8080/",
     "height": 424
    },
    "id": "P-mG1Js5CcYF",
    "outputId": "d0c8c2aa-6c1e-4939-bbf1-29015cd57ada"
   },
   "outputs": [
    {
     "data": {
      "text/html": [
       "<div>\n",
       "<style scoped>\n",
       "    .dataframe tbody tr th:only-of-type {\n",
       "        vertical-align: middle;\n",
       "    }\n",
       "\n",
       "    .dataframe tbody tr th {\n",
       "        vertical-align: top;\n",
       "    }\n",
       "\n",
       "    .dataframe thead th {\n",
       "        text-align: right;\n",
       "    }\n",
       "</style>\n",
       "<table border=\"1\" class=\"dataframe\">\n",
       "  <thead>\n",
       "    <tr style=\"text-align: right;\">\n",
       "      <th></th>\n",
       "      <th>User_ID</th>\n",
       "      <th>movie_ID</th>\n",
       "      <th>rating</th>\n",
       "      <th>timestamp</th>\n",
       "    </tr>\n",
       "  </thead>\n",
       "  <tbody>\n",
       "    <tr>\n",
       "      <th>0</th>\n",
       "      <td>1</td>\n",
       "      <td>122</td>\n",
       "      <td>5.0</td>\n",
       "      <td>838985046</td>\n",
       "    </tr>\n",
       "    <tr>\n",
       "      <th>1</th>\n",
       "      <td>1</td>\n",
       "      <td>185</td>\n",
       "      <td>5.0</td>\n",
       "      <td>838983525</td>\n",
       "    </tr>\n",
       "    <tr>\n",
       "      <th>2</th>\n",
       "      <td>1</td>\n",
       "      <td>231</td>\n",
       "      <td>5.0</td>\n",
       "      <td>838983392</td>\n",
       "    </tr>\n",
       "    <tr>\n",
       "      <th>3</th>\n",
       "      <td>1</td>\n",
       "      <td>292</td>\n",
       "      <td>5.0</td>\n",
       "      <td>838983421</td>\n",
       "    </tr>\n",
       "    <tr>\n",
       "      <th>4</th>\n",
       "      <td>1</td>\n",
       "      <td>316</td>\n",
       "      <td>5.0</td>\n",
       "      <td>838983392</td>\n",
       "    </tr>\n",
       "    <tr>\n",
       "      <th>...</th>\n",
       "      <td>...</td>\n",
       "      <td>...</td>\n",
       "      <td>...</td>\n",
       "      <td>...</td>\n",
       "    </tr>\n",
       "    <tr>\n",
       "      <th>10000049</th>\n",
       "      <td>71567</td>\n",
       "      <td>2107</td>\n",
       "      <td>1.0</td>\n",
       "      <td>912580553</td>\n",
       "    </tr>\n",
       "    <tr>\n",
       "      <th>10000050</th>\n",
       "      <td>71567</td>\n",
       "      <td>2126</td>\n",
       "      <td>2.0</td>\n",
       "      <td>912649143</td>\n",
       "    </tr>\n",
       "    <tr>\n",
       "      <th>10000051</th>\n",
       "      <td>71567</td>\n",
       "      <td>2294</td>\n",
       "      <td>5.0</td>\n",
       "      <td>912577968</td>\n",
       "    </tr>\n",
       "    <tr>\n",
       "      <th>10000052</th>\n",
       "      <td>71567</td>\n",
       "      <td>2338</td>\n",
       "      <td>2.0</td>\n",
       "      <td>912578016</td>\n",
       "    </tr>\n",
       "    <tr>\n",
       "      <th>10000053</th>\n",
       "      <td>71567</td>\n",
       "      <td>2384</td>\n",
       "      <td>2.0</td>\n",
       "      <td>912578173</td>\n",
       "    </tr>\n",
       "  </tbody>\n",
       "</table>\n",
       "<p>10000054 rows × 4 columns</p>\n",
       "</div>"
      ],
      "text/plain": [
       "          User_ID  movie_ID  rating  timestamp\n",
       "0               1       122     5.0  838985046\n",
       "1               1       185     5.0  838983525\n",
       "2               1       231     5.0  838983392\n",
       "3               1       292     5.0  838983421\n",
       "4               1       316     5.0  838983392\n",
       "...           ...       ...     ...        ...\n",
       "10000049    71567      2107     1.0  912580553\n",
       "10000050    71567      2126     2.0  912649143\n",
       "10000051    71567      2294     5.0  912577968\n",
       "10000052    71567      2338     2.0  912578016\n",
       "10000053    71567      2384     2.0  912578173\n",
       "\n",
       "[10000054 rows x 4 columns]"
      ]
     },
     "execution_count": 7,
     "metadata": {},
     "output_type": "execute_result"
    }
   ],
   "source": [
    "data"
   ]
  },
  {
   "cell_type": "code",
   "execution_count": 8,
   "metadata": {
    "id": "hk737nW-CeXt"
   },
   "outputs": [],
   "source": [
    "data.drop('timestamp', axis=1, inplace=True)"
   ]
  },
  {
   "cell_type": "code",
   "execution_count": 9,
   "metadata": {
    "id": "zN0htQGuCg5k"
   },
   "outputs": [],
   "source": [
    "data = data.head(3000)"
   ]
  },
  {
   "cell_type": "code",
   "execution_count": 10,
   "metadata": {
    "colab": {
     "base_uri": "https://localhost:8080/",
     "height": 424
    },
    "id": "ffi5JQ0HmYzI",
    "outputId": "d219ef5d-b87c-4e47-cb77-89f628d2383b"
   },
   "outputs": [
    {
     "data": {
      "text/html": [
       "<div>\n",
       "<style scoped>\n",
       "    .dataframe tbody tr th:only-of-type {\n",
       "        vertical-align: middle;\n",
       "    }\n",
       "\n",
       "    .dataframe tbody tr th {\n",
       "        vertical-align: top;\n",
       "    }\n",
       "\n",
       "    .dataframe thead th {\n",
       "        text-align: right;\n",
       "    }\n",
       "</style>\n",
       "<table border=\"1\" class=\"dataframe\">\n",
       "  <thead>\n",
       "    <tr style=\"text-align: right;\">\n",
       "      <th></th>\n",
       "      <th>User_ID</th>\n",
       "      <th>movie_ID</th>\n",
       "      <th>rating</th>\n",
       "    </tr>\n",
       "  </thead>\n",
       "  <tbody>\n",
       "    <tr>\n",
       "      <th>0</th>\n",
       "      <td>1</td>\n",
       "      <td>122</td>\n",
       "      <td>5.0</td>\n",
       "    </tr>\n",
       "    <tr>\n",
       "      <th>1</th>\n",
       "      <td>1</td>\n",
       "      <td>185</td>\n",
       "      <td>5.0</td>\n",
       "    </tr>\n",
       "    <tr>\n",
       "      <th>2</th>\n",
       "      <td>1</td>\n",
       "      <td>231</td>\n",
       "      <td>5.0</td>\n",
       "    </tr>\n",
       "    <tr>\n",
       "      <th>3</th>\n",
       "      <td>1</td>\n",
       "      <td>292</td>\n",
       "      <td>5.0</td>\n",
       "    </tr>\n",
       "    <tr>\n",
       "      <th>4</th>\n",
       "      <td>1</td>\n",
       "      <td>316</td>\n",
       "      <td>5.0</td>\n",
       "    </tr>\n",
       "    <tr>\n",
       "      <th>...</th>\n",
       "      <td>...</td>\n",
       "      <td>...</td>\n",
       "      <td>...</td>\n",
       "    </tr>\n",
       "    <tr>\n",
       "      <th>2995</th>\n",
       "      <td>34</td>\n",
       "      <td>542</td>\n",
       "      <td>4.0</td>\n",
       "    </tr>\n",
       "    <tr>\n",
       "      <th>2996</th>\n",
       "      <td>34</td>\n",
       "      <td>546</td>\n",
       "      <td>1.0</td>\n",
       "    </tr>\n",
       "    <tr>\n",
       "      <th>2997</th>\n",
       "      <td>34</td>\n",
       "      <td>547</td>\n",
       "      <td>3.0</td>\n",
       "    </tr>\n",
       "    <tr>\n",
       "      <th>2998</th>\n",
       "      <td>34</td>\n",
       "      <td>551</td>\n",
       "      <td>3.0</td>\n",
       "    </tr>\n",
       "    <tr>\n",
       "      <th>2999</th>\n",
       "      <td>34</td>\n",
       "      <td>552</td>\n",
       "      <td>4.0</td>\n",
       "    </tr>\n",
       "  </tbody>\n",
       "</table>\n",
       "<p>3000 rows × 3 columns</p>\n",
       "</div>"
      ],
      "text/plain": [
       "      User_ID  movie_ID  rating\n",
       "0           1       122     5.0\n",
       "1           1       185     5.0\n",
       "2           1       231     5.0\n",
       "3           1       292     5.0\n",
       "4           1       316     5.0\n",
       "...       ...       ...     ...\n",
       "2995       34       542     4.0\n",
       "2996       34       546     1.0\n",
       "2997       34       547     3.0\n",
       "2998       34       551     3.0\n",
       "2999       34       552     4.0\n",
       "\n",
       "[3000 rows x 3 columns]"
      ]
     },
     "execution_count": 10,
     "metadata": {},
     "output_type": "execute_result"
    }
   ],
   "source": [
    "data"
   ]
  },
  {
   "cell_type": "code",
   "execution_count": 11,
   "metadata": {
    "id": "kmdtCpL4CkWE"
   },
   "outputs": [],
   "source": [
    "# Get unique User_IDs and movie_IDs\n",
    "unique_users = data['User_ID'].unique()\n",
    "unique_items = data['movie_ID'].unique()"
   ]
  },
  {
   "cell_type": "code",
   "execution_count": 12,
   "metadata": {
    "colab": {
     "base_uri": "https://localhost:8080/"
    },
    "id": "zMmW-UNdmYzK",
    "outputId": "98a95606-fb66-48de-cda9-aa536f982f0a"
   },
   "outputs": [
    {
     "name": "stdout",
     "output_type": "stream",
     "text": [
      "28\n",
      "1595\n"
     ]
    }
   ],
   "source": [
    "# Number of users and items\n",
    "n_users = len(unique_users)\n",
    "n_items = len(unique_items)\n",
    "print(n_users)\n",
    "print(n_items)"
   ]
  },
  {
   "cell_type": "code",
   "execution_count": 13,
   "metadata": {
    "id": "-HeZfZLYmYzL"
   },
   "outputs": [],
   "source": [
    "\n",
    "# Initialize R matrix with zeros\n",
    "R = pd.DataFrame(0, index=unique_users, columns=unique_items, dtype=float)\n",
    "RR = pd.DataFrame(0, index=unique_users, columns=unique_items, dtype=float)\n",
    "\n",
    "# Fill R matrix based on the dataset\n",
    "for index, row in data.iterrows():\n",
    "    user_id = row['User_ID']\n",
    "    item_id = row['movie_ID']\n",
    "    # If there's a rating provided, set the corresponding entry to 1\n",
    "    # if not pd.isnull(row['rating']):\n",
    "    R.loc[user_id, item_id] = 1\n",
    "    RR.loc[user_id, item_id] = row['rating']"
   ]
  },
  {
   "cell_type": "code",
   "execution_count": 14,
   "metadata": {
    "id": "wqpI31TDmYzM"
   },
   "outputs": [],
   "source": [
    "R.reset_index(drop=True, inplace=True)\n",
    "RR.reset_index(drop=True, inplace=True)"
   ]
  },
  {
   "cell_type": "code",
   "execution_count": 15,
   "metadata": {
    "id": "P1lQcuV3mYzN"
   },
   "outputs": [],
   "source": [
    "R.columns = range(len(R.columns))\n",
    "RR.columns = range(len(RR.columns))"
   ]
  },
  {
   "cell_type": "code",
   "execution_count": 16,
   "metadata": {
    "id": "s1bhTpehmYzO"
   },
   "outputs": [],
   "source": [
    "R = R.values\n",
    "RR = RR.values"
   ]
  },
  {
   "cell_type": "code",
   "execution_count": 17,
   "metadata": {
    "colab": {
     "base_uri": "https://localhost:8080/"
    },
    "id": "ABk7DL2nJCEb",
    "outputId": "a9c0dc03-d494-4d22-d652-663743eb58e3"
   },
   "outputs": [
    {
     "data": {
      "text/plain": [
       "array([ 1,  2,  3,  4,  5,  6,  7,  8,  9, 10, 11, 12, 13, 14, 16, 17, 18,\n",
       "       19, 22, 23, 24, 26, 27, 28, 29, 30, 33, 34])"
      ]
     },
     "execution_count": 17,
     "metadata": {},
     "output_type": "execute_result"
    }
   ],
   "source": [
    "unique_users"
   ]
  },
  {
   "cell_type": "code",
   "execution_count": 18,
   "metadata": {},
   "outputs": [
    {
     "data": {
      "text/plain": [
       "array([[1., 1., 1., ..., 0., 0., 0.],\n",
       "       [0., 0., 0., ..., 0., 0., 0.],\n",
       "       [0., 0., 0., ..., 0., 0., 0.],\n",
       "       ...,\n",
       "       [0., 1., 0., ..., 0., 0., 0.],\n",
       "       [0., 0., 0., ..., 0., 0., 0.],\n",
       "       [0., 1., 1., ..., 1., 1., 1.]])"
      ]
     },
     "execution_count": 18,
     "metadata": {},
     "output_type": "execute_result"
    }
   ],
   "source": [
    "R"
   ]
  },
  {
   "cell_type": "code",
   "execution_count": 19,
   "metadata": {
    "id": "2t9qA8ZZbt_C"
   },
   "outputs": [],
   "source": [
    "# Define the shape of the matrix\n",
    "rows = R.shape[1]\n",
    "cols = R.shape[1]\n",
    "\n",
    "# Generate the zero matrix with values between 0 and 1\n",
    "S = np.random.rand(rows, cols)"
   ]
  },
  {
   "cell_type": "code",
   "execution_count": 20,
   "metadata": {
    "colab": {
     "base_uri": "https://localhost:8080/"
    },
    "id": "SLWNE0lYd6e7",
    "outputId": "1d61cf9f-9924-4d64-cfb0-f3d594f911e9"
   },
   "outputs": [
    {
     "data": {
      "text/plain": [
       "3"
      ]
     },
     "execution_count": 20,
     "metadata": {},
     "output_type": "execute_result"
    }
   ],
   "source": [
    "def generate_S_pu(num_clusters, rows):\n",
    "    S_pu_list = []\n",
    "    for _ in range(num_clusters):\n",
    "        S_pu = np.random.rand(rows, rows)  # Generate zero matrix with values between 0 and 1\n",
    "        S_pu_list.append(S_pu)\n",
    "    return S_pu_list\n",
    "\n",
    "# Define parameters\n",
    "num_clusters = 3\n",
    "# Generate random matrices for each cluster\n",
    "S_pu_list = generate_S_pu(num_clusters, rows)\n",
    "len(S_pu_list)"
   ]
  },
  {
   "cell_type": "code",
   "execution_count": 21,
   "metadata": {
    "id": "UoZuoShlmYzR"
   },
   "outputs": [],
   "source": [
    "def constraint(matrix):\n",
    "    for i in range(matrix.shape[0]):\n",
    "        for j in range(matrix.shape[1]):\n",
    "            if i==j:\n",
    "                matrix[i,j] = 0\n",
    "    return matrix"
   ]
  },
  {
   "cell_type": "code",
   "execution_count": 22,
   "metadata": {
    "id": "vnmdmR71mYzS"
   },
   "outputs": [],
   "source": [
    "S = constraint(S)\n",
    "for pu in range(num_clusters):\n",
    "    S_pu_list[pu] = constraint(S_pu_list[pu])"
   ]
  },
  {
   "cell_type": "code",
   "execution_count": 23,
   "metadata": {
    "colab": {
     "base_uri": "https://localhost:8080/"
    },
    "id": "l1sUiNQgmYzT",
    "outputId": "bda4d2b2-356e-4c3d-a956-efdccc7cb112"
   },
   "outputs": [
    {
     "name": "stdout",
     "output_type": "stream",
     "text": [
      "S_pu matrix for cluster 1:\n",
      "[[0.         0.30008594 0.76215761 ... 0.22446301 0.50534682 0.88358674]\n",
      " [0.39017914 0.         0.29523915 ... 0.47315413 0.05424701 0.75034478]\n",
      " [0.80447706 0.83855226 0.         ... 0.47211965 0.93193169 0.48764637]\n",
      " ...\n",
      " [0.21082917 0.62087632 0.59079685 ... 0.         0.39423013 0.7204482 ]\n",
      " [0.42295141 0.74749897 0.72550575 ... 0.75702457 0.         0.35538253]\n",
      " [0.16260357 0.79708269 0.75819759 ... 0.11951576 0.37669781 0.        ]]\n",
      "\n",
      "S_pu matrix for cluster 2:\n",
      "[[0.         0.28685908 0.25026494 ... 0.51784227 0.04632213 0.92324459]\n",
      " [0.94978785 0.         0.77233281 ... 0.85921721 0.40258515 0.67921806]\n",
      " [0.89788561 0.99569591 0.         ... 0.27508316 0.5108785  0.89298468]\n",
      " ...\n",
      " [0.92692647 0.84180301 0.57465411 ... 0.         0.13172516 0.41584931]\n",
      " [0.08346356 0.2256164  0.71077626 ... 0.6664123  0.         0.25799104]\n",
      " [0.76101649 0.7925335  0.42894547 ... 0.7502486  0.89535226 0.        ]]\n",
      "\n",
      "S_pu matrix for cluster 3:\n",
      "[[0.         0.263959   0.56079468 ... 0.70211908 0.46182409 0.06449157]\n",
      " [0.07347639 0.         0.34618455 ... 0.65258151 0.29648643 0.59490329]\n",
      " [0.84252444 0.32150064 0.         ... 0.83037415 0.87072715 0.1907832 ]\n",
      " ...\n",
      " [0.88209432 0.16834666 0.86814964 ... 0.         0.12799845 0.3908551 ]\n",
      " [0.98545539 0.82213313 0.54752669 ... 0.77093564 0.         0.75084392]\n",
      " [0.82179604 0.13215244 0.34560041 ... 0.7020092  0.11430353 0.        ]]\n",
      "\n"
     ]
    }
   ],
   "source": [
    "# Print the list of random matrices\n",
    "for i, S_pu in enumerate(S_pu_list):\n",
    "    print(f\"S_pu matrix for cluster {i+1}:\\n{S_pu}\\n\")"
   ]
  },
  {
   "cell_type": "code",
   "execution_count": 24,
   "metadata": {
    "id": "m4uX1V1SEafA"
   },
   "outputs": [],
   "source": [
    "def initial_clustering(n_clusters, users):\n",
    "  random.shuffle(users)  # Shuffle the list randomly\n",
    "  sublists = []\n",
    "  size_sublist = len(users) //n_clusters  # Determine the size of each sublist\n",
    "\n",
    "  # Split the shuffled list into n sublists\n",
    "  for i in range(n_clusters):\n",
    "      start = i * size_sublist\n",
    "      end = (i + 1) * size_sublist if i < n_clusters - 1 else None\n",
    "      sublists.append(users[start:end])\n",
    "  return sublists"
   ]
  },
  {
   "cell_type": "code",
   "execution_count": null,
   "metadata": {},
   "outputs": [],
   "source": []
  },
  {
   "cell_type": "code",
   "execution_count": null,
   "metadata": {},
   "outputs": [],
   "source": []
  },
  {
   "cell_type": "code",
   "execution_count": 25,
   "metadata": {
    "id": "fOkFfihgHWCf"
   },
   "outputs": [],
   "source": [
    "def compute_gu(pu,u):\n",
    "  numerator = 0\n",
    "  denomenator = 0\n",
    "  for item in range(n_items):\n",
    "\n",
    "    multiplier1 = 0\n",
    "    for ind, Ruitem in enumerate(R[u,:]):\n",
    "      if Ruitem == 1:\n",
    "        multiplier1 += S[ind, item] - S_pu_list[pu][ind, item]\n",
    "        denomenator += (S[ind, item] - S_pu_list[pu][ind, item])**2\n",
    "    multiplier2 = R[u, item]\n",
    "    for ind, Ruitem in enumerate(R[u,:]):\n",
    "      if Ruitem == 1:\n",
    "        multiplier2 -= S_pu_list[pu][ind, item]\n",
    "\n",
    "    numerator += multiplier1*multiplier2\n",
    "  return numerator/denomenator\n"
   ]
  },
  {
   "cell_type": "code",
   "execution_count": 26,
   "metadata": {
    "id": "G2XFzF-qmYzW"
   },
   "outputs": [],
   "source": [
    "def soft_thresholding(vect, lamb):\n",
    "    for index, item in enumerate(vect):\n",
    "        vect[index] = np.maximum(np.sign(item)*(np.abs(item)- lamb),0)\n",
    "    return vect"
   ]
  },
  {
   "cell_type": "code",
   "execution_count": 27,
   "metadata": {
    "id": "nZITRLg3mYzW"
   },
   "outputs": [],
   "source": [
    "def estimate_S(n_clusters, clusters, gu_users, S, S_pu_list, lambdag, betag):\n",
    "    newS = np.zeros((S.shape[0], S.shape[1]))\n",
    "    Rpu_list = []\n",
    "    for cluster in clusters:\n",
    "        Rpu = np.zeros((n_users, n_items))\n",
    "        for user in cluster:\n",
    "            for ind, item in enumerate(R[user, :]):\n",
    "                if item == 1:\n",
    "                    Rpu[user, ind] = 1\n",
    "        Rpu_list.append(Rpu)\n",
    "    g = gu_users.reshape(-1,1)\n",
    "    gdash = 1-g\n",
    "    A = np.multiply(g,R)\n",
    "    B=[]\n",
    "    for i in range(n_clusters):\n",
    "        B.append(np.multiply(gdash, Rpu_list[i]))\n",
    "    for item in range(n_items):\n",
    "        ri  = R[:, item]\n",
    "        summationofspui = np.zeros((n_users, 1))\n",
    "        for j in range(n_clusters):\n",
    "            summationofspui += B[j]@(S_pu_list[j][:, item]).reshape(-1,1)\n",
    "        leftsideofSoftthresholding = ((A.T@ri).reshape(-1,1))-(A.T@summationofspui)\n",
    "        rightsideofSofthreholding = lambdag\n",
    "        Softthresholdingoutput = soft_thresholding(leftsideofSoftthresholding, rightsideofSofthreholding)\n",
    "        newS[:,item] = (np.linalg.inv(betag*np.identity(n_items) + A.T@A)@Softthresholdingoutput).flatten()\n",
    "    newS = constraint(newS)\n",
    "    return newS"
   ]
  },
  {
   "cell_type": "code",
   "execution_count": 28,
   "metadata": {
    "id": "OST8fs8MmYzX"
   },
   "outputs": [],
   "source": [
    "def estimate_Spu(n_clusters, clusters, gu_users, S, S_pu_list, betal, lambdal):\n",
    "    newSpu = []\n",
    "    for m in range(len(S_pu_list)):\n",
    "        newSpu.append(np.zeros((S_pu_list[m].shape[0], S_pu_list[m].shape[1])))\n",
    "    Rpu_list = []\n",
    "    for cluster in clusters:\n",
    "        Rpu = np.zeros((n_users, n_items))\n",
    "        for user in cluster:\n",
    "            for ind, item in enumerate(R[user, :]):\n",
    "                if item == 1:\n",
    "                    Rpu[user, ind] = 1\n",
    "        Rpu_list.append(Rpu)\n",
    "    g = gu_users.reshape(-1,1)\n",
    "    gdash = 1-g\n",
    "    A = np.multiply(g,R)\n",
    "    B=[]\n",
    "    for i in range(n_clusters):\n",
    "        B.append(np.multiply(gdash, Rpu_list[i]))\n",
    "\n",
    "    for item in range(n_items):\n",
    "        for pu in range(n_clusters):\n",
    "            ri  = R[:, item]\n",
    "            si = S[:, item]\n",
    "            leftsideofSoftthresholding = ((B[pu].T@ri) - (B[pu].T@A@si)).reshape((n_items, 1))\n",
    "            summationofspui = np.zeros((n_users, 1))\n",
    "            for j in range(n_clusters):\n",
    "                if j != pu:\n",
    "                    summationofspui += ((B[j])@(S_pu_list[j][:, item].reshape((n_items,1)))).reshape((n_users, 1))\n",
    "            leftsideofSoftthresholding -= B[pu].T@summationofspui\n",
    "            rightsideofSofthreholding = lambdal\n",
    "            Softthresholdingoutput = soft_thresholding(leftsideofSoftthresholding, rightsideofSofthreholding)\n",
    "            newSpu[pu][:,item] = (np.linalg.inv(betal*np.identity(n_items) + B[pu].T@B[pu])@(Softthresholdingoutput).flatten())\n",
    "    for pu in range(num_clusters):\n",
    "        newSpu[pu] = constraint(newSpu[pu])\n",
    "    return newSpu"
   ]
  },
  {
   "cell_type": "code",
   "execution_count": null,
   "metadata": {},
   "outputs": [],
   "source": []
  },
  {
   "cell_type": "markdown",
   "metadata": {
    "id": "UVDlyWHQvgkH"
   },
   "source": [
    "**GLSLIM**"
   ]
  },
  {
   "cell_type": "code",
   "execution_count": 29,
   "metadata": {
    "id": "ofuT_CuPBvgq"
   },
   "outputs": [],
   "source": [
    "def glslim(S, S_pu_list):\n",
    "  gu_users = np.array([0.5 for u in range(n_users)])\n",
    "  n_clusters = 3\n",
    "  clusters = initial_clustering(n_clusters, list(range(n_users)))\n",
    "  print(\"initial cluster: \", clusters)\n",
    "  while True:\n",
    "    count = 0\n",
    "    S = estimate_S(n_clusters, clusters, gu_users, S, S_pu_list, 0.1, 0.2)\n",
    "    S_pu_list =estimate_Spu(n_clusters, clusters, gu_users, S, S_pu_list, 0.2, 0.1)\n",
    "    for u in list(range(n_users)):\n",
    "      storetrainingerror = []\n",
    "\n",
    "      for pu in range(n_clusters):\n",
    "        gu = compute_gu(pu, u)\n",
    "\n",
    "        modR = sum(R[u,:])\n",
    "        training_error = 0\n",
    "        for i, Ruitem in enumerate(R[u,:]):\n",
    "          if Ruitem == 1:\n",
    "            diff = RR[u, i]\n",
    "            rui = 0\n",
    "            for l, Ruitem in enumerate(R[u,:]):\n",
    "              if Ruitem == 1:\n",
    "                rui += gu*S[l,i] + (1-gu)*S_pu_list[pu][l,i]\n",
    "            diff -= rui\n",
    "            training_error+= diff**2\n",
    "        training_error /= modR\n",
    "        training_error = np.sqrt(training_error)\n",
    "        storetrainingerror.append(training_error)\n",
    "      argminpu = np.argmin(storetrainingerror)\n",
    "      if u not in clusters[argminpu]:\n",
    "        for k in range(n_clusters):\n",
    "          if u in clusters[k]:\n",
    "            clusters[k].remove(u)\n",
    "        clusters[argminpu].append(u)\n",
    "        count +=1\n",
    "      gu_users[u] = gu\n",
    "    print(count/n_users)\n",
    "    if count/n_users <= 0.05:\n",
    "      break\n",
    "  return clusters, gu_users, S, S_pu_list"
   ]
  },
  {
   "cell_type": "code",
   "execution_count": null,
   "metadata": {
    "colab": {
     "base_uri": "https://localhost:8080/",
     "height": 339
    },
    "id": "0TIEJ3rTmYzZ",
    "outputId": "913af8d2-8ede-463e-889f-b54dc929e1b6"
   },
   "outputs": [
    {
     "name": "stdout",
     "output_type": "stream",
     "text": [
      "initial cluster:  [[1, 2, 6, 26, 4, 22, 14, 20, 5], [3, 13, 9, 21, 24, 19, 8, 0, 27], [16, 25, 12, 23, 18, 10, 17, 11, 15, 7]]\n",
      "0.10714285714285714\n",
      "0.35714285714285715\n",
      "0.14285714285714285\n",
      "0.14285714285714285\n",
      "0.17857142857142858\n",
      "0.07142857142857142\n",
      "0.10714285714285714\n",
      "0.21428571428571427\n",
      "0.17857142857142858\n",
      "0.25\n",
      "0.17857142857142858\n",
      "0.10714285714285714\n"
     ]
    }
   ],
   "source": [
    "clusters, gu_users, S, S_pu_list = glslim(S, S_pu_list)"
   ]
  },
  {
   "cell_type": "code",
   "execution_count": null,
   "metadata": {
    "colab": {
     "base_uri": "https://localhost:8080/"
    },
    "id": "D4sJGAAwwVwQ",
    "outputId": "1a1923cf-1447-4a33-8fa3-9ea014c53818"
   },
   "outputs": [],
   "source": [
    "clusters"
   ]
  },
  {
   "cell_type": "code",
   "execution_count": null,
   "metadata": {},
   "outputs": [],
   "source": []
  },
  {
   "cell_type": "code",
   "execution_count": null,
   "metadata": {
    "id": "2yHZBnZfwOHB"
   },
   "outputs": [],
   "source": [
    "# Sample NumPy matrix\n",
    "matrix = np.copy(R)\n",
    "\n",
    "# Initialize list to store random indices\n",
    "random_indices = []\n",
    "\n",
    "# Iterate over each row\n",
    "for row in matrix:\n",
    "    # Get indices of non-zero elements in the row\n",
    "    nonzero_indices = np.nonzero(row)[0]\n",
    "    if len(nonzero_indices) > 0:\n",
    "        # Choose one random index from the non-zero indices\n",
    "        random_index = np.random.choice(nonzero_indices)\n",
    "        random_indices.append(random_index)\n",
    "\n",
    "print(random_indices)"
   ]
  },
  {
   "cell_type": "code",
   "execution_count": null,
   "metadata": {},
   "outputs": [],
   "source": [
    "print(matrix[0,19])"
   ]
  },
  {
   "cell_type": "code",
   "execution_count": null,
   "metadata": {
    "id": "ZBfGWozyFIlE"
   },
   "outputs": [],
   "source": [
    "\n",
    "for ind, row in enumerate(matrix):\n",
    "  row[random_indices[ind]] = 0"
   ]
  },
  {
   "cell_type": "code",
   "execution_count": null,
   "metadata": {
    "id": "RFSgMulXFNwq"
   },
   "outputs": [],
   "source": [
    "#run glslim on this data, get S and Spu matrices\n",
    "n_clusters = 3\n",
    "user_non_rated_item_predicted_ratings = []\n",
    "for u in list(range(n_users)):\n",
    "  user_store_for_each_item = []\n",
    "  for i, Ruitem in enumerate(matrix[u,:]):\n",
    "    rui = 0\n",
    "    if Ruitem == 0.0:\n",
    "      \n",
    "      user_pu = 0\n",
    "      for pu in range(n_clusters):\n",
    "          if u in clusters[pu]:\n",
    "            user_pu = pu\n",
    "      for l, Ruitem in enumerate(R[u,:]):\n",
    "        if Ruitem == 1:\n",
    "          rui += gu_users[u]*S[l,i] + (1-gu_users[u])*S_pu_list[user_pu][l,i]\n",
    "    user_store_for_each_item.append((i, rui))\n",
    "  user_store_for_each_item = sorted(user_store_for_each_item, key=lambda x: x[0], reverse=True)\n",
    "  user_non_rated_item_predicted_ratings.append(user_store_for_each_item)"
   ]
  },
  {
   "cell_type": "code",
   "execution_count": null,
   "metadata": {
    "id": "DblUH8BVFQKN"
   },
   "outputs": [],
   "source": [
    "hits = 0\n",
    "N = 20\n",
    "for user in range(n_users):\n",
    "    recommended_items = user_non_rated_item_predicted_ratings[user][:N]\n",
    "    first_elements = [t[0] for t in recommended_items]\n",
    "    if random_indices[user] in first_elements:\n",
    "        hits += 1\n",
    "\n",
    "hit_rate = hits / n_users\n",
    "print(hit_rate)"
   ]
  },
  {
   "cell_type": "code",
   "execution_count": null,
   "metadata": {},
   "outputs": [],
   "source": []
  },
  {
   "cell_type": "code",
   "execution_count": null,
   "metadata": {},
   "outputs": [],
   "source": []
  },
  {
   "cell_type": "code",
   "execution_count": null,
   "metadata": {},
   "outputs": [],
   "source": []
  },
  {
   "cell_type": "code",
   "execution_count": null,
   "metadata": {},
   "outputs": [],
   "source": []
  },
  {
   "cell_type": "code",
   "execution_count": null,
   "metadata": {},
   "outputs": [],
   "source": []
  },
  {
   "cell_type": "code",
   "execution_count": null,
   "metadata": {},
   "outputs": [],
   "source": [
    "#For 4 clusters"
   ]
  },
  {
   "cell_type": "code",
   "execution_count": null,
   "metadata": {},
   "outputs": [],
   "source": [
    "def generate_S_pu(num_clusters, rows):\n",
    "    S_pu_list = []\n",
    "    for _ in range(num_clusters):\n",
    "        S_pu = np.random.rand(rows, rows)  # Generate zero matrix with values between 0 and 1\n",
    "        S_pu_list.append(S_pu)\n",
    "    return S_pu_list\n",
    "\n",
    "# Define parameters\n",
    "num_clusters = 4\n",
    "# Generate random matrices for each cluster\n",
    "S_pu_list = generate_S_pu(num_clusters, rows)\n",
    "len(S_pu_list)"
   ]
  },
  {
   "cell_type": "code",
   "execution_count": null,
   "metadata": {},
   "outputs": [],
   "source": [
    "def constraint(matrix):\n",
    "    for i in range(matrix.shape[0]):\n",
    "        for j in range(matrix.shape[1]):\n",
    "            if i==j:\n",
    "                matrix[i,j] = 0\n",
    "    return matrix"
   ]
  },
  {
   "cell_type": "code",
   "execution_count": null,
   "metadata": {},
   "outputs": [],
   "source": [
    "S = constraint(S)\n",
    "for pu in range(num_clusters):\n",
    "    S_pu_list[pu] = constraint(S_pu_list[pu])"
   ]
  },
  {
   "cell_type": "code",
   "execution_count": null,
   "metadata": {},
   "outputs": [],
   "source": [
    "def estimate_Spu(n_clusters, clusters, gu_users, S, S_pu_list, betal, lambdal):\n",
    "    newSpu = []\n",
    "    for m in range(len(S_pu_list)):\n",
    "        newSpu.append(np.zeros((S_pu_list[m].shape[0], S_pu_list[m].shape[1])))\n",
    "    Rpu_list = []\n",
    "    for cluster in clusters:\n",
    "        Rpu = np.zeros((n_users, n_items))\n",
    "        for user in cluster:\n",
    "            for ind, item in enumerate(R[user, :]):\n",
    "                if item == 1:\n",
    "                    Rpu[user, ind] = 1\n",
    "        Rpu_list.append(Rpu)\n",
    "    g = gu_users.reshape(-1,1)\n",
    "    gdash = 1-g\n",
    "    A = np.multiply(g,R)\n",
    "    B=[]\n",
    "    for i in range(n_clusters):\n",
    "        B.append(np.multiply(gdash, Rpu_list[i]))\n",
    "\n",
    "    for item in range(n_items):\n",
    "        for pu in range(n_clusters):\n",
    "            ri  = R[:, item]\n",
    "            si = S[:, item]\n",
    "            leftsideofSoftthresholding = ((B[pu].T@ri) - (B[pu].T@A@si)).reshape((n_items, 1))\n",
    "            summationofspui = np.zeros((n_users, 1))\n",
    "            for j in range(n_clusters):\n",
    "                if j != pu:\n",
    "                    summationofspui += ((B[j])@(S_pu_list[j][:, item].reshape((n_items,1)))).reshape((n_users, 1))\n",
    "            leftsideofSoftthresholding -= B[pu].T@summationofspui\n",
    "            rightsideofSofthreholding = lambdal\n",
    "            Softthresholdingoutput = soft_thresholding(leftsideofSoftthresholding, rightsideofSofthreholding)\n",
    "            newSpu[pu][:,item] = (np.linalg.inv(betal*np.identity(n_items) + B[pu].T@B[pu])@(Softthresholdingoutput).flatten())\n",
    "    for pu in range(num_clusters):\n",
    "        newSpu[pu] = constraint(newSpu[pu])\n",
    "    return newSpu"
   ]
  },
  {
   "cell_type": "code",
   "execution_count": null,
   "metadata": {},
   "outputs": [],
   "source": [
    "def glslim(S, S_pu_list):\n",
    "  gu_users = np.array([0.5 for u in range(n_users)])\n",
    "  n_clusters = 3\n",
    "  clusters = initial_clustering(n_clusters, list(range(n_users)))\n",
    "  print(\"initial cluster: \", clusters)\n",
    "  while True:\n",
    "    count = 0\n",
    "    S = estimate_S(n_clusters, clusters, gu_users, S, S_pu_list, 0.1, 0.2)\n",
    "    S_pu_list =estimate_Spu(n_clusters, clusters, gu_users, S, S_pu_list, 0.2, 0.1)\n",
    "    for u in list(range(n_users)):\n",
    "      storetrainingerror = []\n",
    "\n",
    "      for pu in range(n_clusters):\n",
    "        gu = compute_gu(pu, u)\n",
    "\n",
    "        modR = sum(R[u,:])\n",
    "        training_error = 0\n",
    "        for i, Ruitem in enumerate(R[u,:]):\n",
    "          if Ruitem == 1:\n",
    "            diff = RR[u, i]\n",
    "            rui = 0\n",
    "            for l, Ruitem in enumerate(R[u,:]):\n",
    "              if Ruitem == 1:\n",
    "                rui += gu*S[l,i] + (1-gu)*S_pu_list[pu][l,i]\n",
    "            diff -= rui\n",
    "            training_error+= diff**2\n",
    "        training_error /= modR\n",
    "        training_error = np.sqrt(training_error)\n",
    "        storetrainingerror.append(training_error)\n",
    "      argminpu = np.argmin(storetrainingerror)\n",
    "      if u not in clusters[argminpu]:\n",
    "        for k in range(n_clusters):\n",
    "          if u in clusters[k]:\n",
    "            clusters[k].remove(u)\n",
    "        clusters[argminpu].append(u)\n",
    "        count +=1\n",
    "      gu_users[u] = gu\n",
    "    print(count/n_users)\n",
    "    if count/n_users <= 0.05:\n",
    "      break\n",
    "  return clusters, gu_users, S, S_pu_list"
   ]
  },
  {
   "cell_type": "code",
   "execution_count": null,
   "metadata": {},
   "outputs": [],
   "source": [
    "hits = 0\n",
    "N = 30\n",
    "for user in range(n_users):\n",
    "    recommended_items = user_non_rated_item_predicted_ratings[user][:N]\n",
    "    first_elements = [t[0] for t in recommended_items]\n",
    "    if random_indices[user] in first_elements:\n",
    "        hits += 1\n",
    "\n",
    "hit_rate = hits / n_users\n",
    "print(hit_rate)"
   ]
  },
  {
   "cell_type": "code",
   "execution_count": null,
   "metadata": {},
   "outputs": [],
   "source": []
  },
  {
   "cell_type": "code",
   "execution_count": null,
   "metadata": {},
   "outputs": [],
   "source": []
  },
  {
   "cell_type": "code",
   "execution_count": null,
   "metadata": {},
   "outputs": [],
   "source": [
    "#For 5 clusters"
   ]
  },
  {
   "cell_type": "code",
   "execution_count": null,
   "metadata": {},
   "outputs": [],
   "source": [
    "def generate_S_pu(num_clusters, rows):\n",
    "    S_pu_list = []\n",
    "    for _ in range(num_clusters):\n",
    "        S_pu = np.random.rand(rows, rows)  # Generate zero matrix with values between 0 and 1\n",
    "        S_pu_list.append(S_pu)\n",
    "    return S_pu_list\n",
    "\n",
    "# Define parameters\n",
    "num_clusters = 5\n",
    "# Generate random matrices for each cluster\n",
    "S_pu_list = generate_S_pu(num_clusters, rows)\n",
    "len(S_pu_list)"
   ]
  },
  {
   "cell_type": "code",
   "execution_count": null,
   "metadata": {},
   "outputs": [],
   "source": [
    "def constraint(matrix):\n",
    "    for i in range(matrix.shape[0]):\n",
    "        for j in range(matrix.shape[1]):\n",
    "            if i==j:\n",
    "                matrix[i,j] = 0\n",
    "    return matrix"
   ]
  },
  {
   "cell_type": "code",
   "execution_count": null,
   "metadata": {},
   "outputs": [],
   "source": [
    "S = constraint(S)\n",
    "for pu in range(num_clusters):\n",
    "    S_pu_list[pu] = constraint(S_pu_list[pu])"
   ]
  },
  {
   "cell_type": "code",
   "execution_count": null,
   "metadata": {},
   "outputs": [],
   "source": [
    "def estimate_Spu(n_clusters, clusters, gu_users, S, S_pu_list, betal, lambdal):\n",
    "    newSpu = []\n",
    "    for m in range(len(S_pu_list)):\n",
    "        newSpu.append(np.zeros((S_pu_list[m].shape[0], S_pu_list[m].shape[1])))\n",
    "    Rpu_list = []\n",
    "    for cluster in clusters:\n",
    "        Rpu = np.zeros((n_users, n_items))\n",
    "        for user in cluster:\n",
    "            for ind, item in enumerate(R[user, :]):\n",
    "                if item == 1:\n",
    "                    Rpu[user, ind] = 1\n",
    "        Rpu_list.append(Rpu)\n",
    "    g = gu_users.reshape(-1,1)\n",
    "    gdash = 1-g\n",
    "    A = np.multiply(g,R)\n",
    "    B=[]\n",
    "    for i in range(n_clusters):\n",
    "        B.append(np.multiply(gdash, Rpu_list[i]))\n",
    "\n",
    "    for item in range(n_items):\n",
    "        for pu in range(n_clusters):\n",
    "            ri  = R[:, item]\n",
    "            si = S[:, item]\n",
    "            leftsideofSoftthresholding = ((B[pu].T@ri) - (B[pu].T@A@si)).reshape((n_items, 1))\n",
    "            summationofspui = np.zeros((n_users, 1))\n",
    "            for j in range(n_clusters):\n",
    "                if j != pu:\n",
    "                    summationofspui += ((B[j])@(S_pu_list[j][:, item].reshape((n_items,1)))).reshape((n_users, 1))\n",
    "            leftsideofSoftthresholding -= B[pu].T@summationofspui\n",
    "            rightsideofSofthreholding = lambdal\n",
    "            Softthresholdingoutput = soft_thresholding(leftsideofSoftthresholding, rightsideofSofthreholding)\n",
    "            newSpu[pu][:,item] = (np.linalg.inv(betal*np.identity(n_items) + B[pu].T@B[pu])@(Softthresholdingoutput).flatten())\n",
    "    for pu in range(num_clusters):\n",
    "        newSpu[pu] = constraint(newSpu[pu])\n",
    "    return newSpu"
   ]
  },
  {
   "cell_type": "code",
   "execution_count": null,
   "metadata": {},
   "outputs": [],
   "source": [
    "def glslim(S, S_pu_list):\n",
    "  gu_users = np.array([0.5 for u in range(n_users)])\n",
    "  n_clusters = 3\n",
    "  clusters = initial_clustering(n_clusters, list(range(n_users)))\n",
    "  print(\"initial cluster: \", clusters)\n",
    "  while True:\n",
    "    count = 0\n",
    "    S = estimate_S(n_clusters, clusters, gu_users, S, S_pu_list, 0.1, 0.2)\n",
    "    S_pu_list =estimate_Spu(n_clusters, clusters, gu_users, S, S_pu_list, 0.2, 0.1)\n",
    "    for u in list(range(n_users)):\n",
    "      storetrainingerror = []\n",
    "\n",
    "      for pu in range(n_clusters):\n",
    "        gu = compute_gu(pu, u)\n",
    "\n",
    "        modR = sum(R[u,:])\n",
    "        training_error = 0\n",
    "        for i, Ruitem in enumerate(R[u,:]):\n",
    "          if Ruitem == 1:\n",
    "            diff = RR[u, i]\n",
    "            rui = 0\n",
    "            for l, Ruitem in enumerate(R[u,:]):\n",
    "              if Ruitem == 1:\n",
    "                rui += gu*S[l,i] + (1-gu)*S_pu_list[pu][l,i]\n",
    "            diff -= rui\n",
    "            training_error+= diff**2\n",
    "        training_error /= modR\n",
    "        training_error = np.sqrt(training_error)\n",
    "        storetrainingerror.append(training_error)\n",
    "      argminpu = np.argmin(storetrainingerror)\n",
    "      if u not in clusters[argminpu]:\n",
    "        for k in range(n_clusters):\n",
    "          if u in clusters[k]:\n",
    "            clusters[k].remove(u)\n",
    "        clusters[argminpu].append(u)\n",
    "        count +=1\n",
    "      gu_users[u] = gu\n",
    "    print(count/n_users)\n",
    "    if count/n_users <= 0.05:\n",
    "      break\n",
    "  return clusters, gu_users, S, S_pu_list"
   ]
  },
  {
   "cell_type": "code",
   "execution_count": null,
   "metadata": {},
   "outputs": [],
   "source": [
    "clusters, gu_users, S, S_pu_list = glslim(S, S_pu_list)"
   ]
  },
  {
   "cell_type": "code",
   "execution_count": null,
   "metadata": {},
   "outputs": [],
   "source": [
    "clusters"
   ]
  },
  {
   "cell_type": "code",
   "execution_count": null,
   "metadata": {},
   "outputs": [],
   "source": [
    "# Sample NumPy matrix\n",
    "matrix = np.copy(R)\n",
    "\n",
    "# Initialize list to store random indices\n",
    "random_indices = []\n",
    "\n",
    "# Iterate over each row\n",
    "for row in matrix:\n",
    "    # Get indices of non-zero elements in the row\n",
    "    nonzero_indices = np.nonzero(row)[0]\n",
    "    if len(nonzero_indices) > 0:\n",
    "        # Choose one random index from the non-zero indices\n",
    "        random_index = np.random.choice(nonzero_indices)\n",
    "        random_indices.append(random_index)\n",
    "\n",
    "print(random_indices)"
   ]
  },
  {
   "cell_type": "code",
   "execution_count": null,
   "metadata": {},
   "outputs": [],
   "source": [
    "for ind, row in enumerate(matrix):\n",
    "  row[random_indices[ind]] = 0"
   ]
  },
  {
   "cell_type": "code",
   "execution_count": null,
   "metadata": {},
   "outputs": [],
   "source": [
    "#run glslim on this data, get S and Spu matrices\n",
    "n_clusters = 4\n",
    "user_non_rated_item_predicted_ratings = []\n",
    "for u in list(range(n_users)):\n",
    "  user_store_for_each_item = []\n",
    "  for i, Ruitem in enumerate(matrix[u,:]):\n",
    "    rui = 0\n",
    "    if Ruitem == 0.0:\n",
    "      \n",
    "      user_pu = 0\n",
    "      for pu in range(n_clusters):\n",
    "          if u in clusters[pu]:\n",
    "            user_pu = pu\n",
    "      for l, Ruitem in enumerate(R[u,:]):\n",
    "        if Ruitem == 1:\n",
    "          rui += gu_users[u]*S[l,i] + (1-gu_users[u])*S_pu_list[user_pu][l,i]\n",
    "    user_store_for_each_item.append((i, rui))\n",
    "  user_store_for_each_item = sorted(user_store_for_each_item, key=lambda x: x[0], reverse=True)\n",
    "  user_non_rated_item_predicted_ratings.append(user_store_for_each_item)"
   ]
  },
  {
   "cell_type": "code",
   "execution_count": null,
   "metadata": {},
   "outputs": [],
   "source": [
    "#run glslim on this data, get S and Spu matrices\n",
    "n_clusters = 5\n",
    "user_non_rated_item_predicted_ratings = []\n",
    "for u in list(range(n_users)):\n",
    "  user_store_for_each_item = []\n",
    "  for i, Ruitem in enumerate(matrix[u,:]):\n",
    "    rui = 0\n",
    "    if Ruitem == 0.0:\n",
    "      \n",
    "      user_pu = 0\n",
    "      for pu in range(n_clusters):\n",
    "          if u in clusters[pu]:\n",
    "            user_pu = pu\n",
    "      for l, Ruitem in enumerate(R[u,:]):\n",
    "        if Ruitem == 1:\n",
    "          rui += gu_users[u]*S[l,i] + (1-gu_users[u])*S_pu_list[user_pu][l,i]\n",
    "    user_store_for_each_item.append((i, rui))\n",
    "  user_store_for_each_item = sorted(user_store_for_each_item, key=lambda x: x[0], reverse=True)\n",
    "  user_non_rated_item_predicted_ratings.append(user_store_for_each_item)"
   ]
  },
  {
   "cell_type": "code",
   "execution_count": null,
   "metadata": {},
   "outputs": [],
   "source": [
    "hits = 0\n",
    "N = 30\n",
    "for user in range(n_users):\n",
    "    recommended_items = user_non_rated_item_predicted_ratings[user][:N]\n",
    "    first_elements = [t[0] for t in recommended_items]\n",
    "    if random_indices[user] in first_elements:\n",
    "        hits += 1\n",
    "\n",
    "hit_rate = hits / n_users\n",
    "print(hit_rate)"
   ]
  },
  {
   "cell_type": "code",
   "execution_count": null,
   "metadata": {},
   "outputs": [],
   "source": []
  },
  {
   "cell_type": "code",
   "execution_count": null,
   "metadata": {},
   "outputs": [],
   "source": []
  },
  {
   "cell_type": "code",
   "execution_count": null,
   "metadata": {},
   "outputs": [],
   "source": []
  },
  {
   "cell_type": "code",
   "execution_count": null,
   "metadata": {},
   "outputs": [],
   "source": []
  },
  {
   "cell_type": "code",
   "execution_count": null,
   "metadata": {},
   "outputs": [],
   "source": []
  },
  {
   "cell_type": "code",
   "execution_count": null,
   "metadata": {},
   "outputs": [],
   "source": []
  },
  {
   "cell_type": "code",
   "execution_count": null,
   "metadata": {},
   "outputs": [],
   "source": []
  },
  {
   "cell_type": "code",
   "execution_count": null,
   "metadata": {},
   "outputs": [],
   "source": []
  },
  {
   "cell_type": "code",
   "execution_count": null,
   "metadata": {},
   "outputs": [],
   "source": []
  },
  {
   "cell_type": "code",
   "execution_count": null,
   "metadata": {},
   "outputs": [],
   "source": []
  },
  {
   "cell_type": "code",
   "execution_count": 213,
   "metadata": {},
   "outputs": [],
   "source": [
    "#LSLIM"
   ]
  },
  {
   "cell_type": "code",
   "execution_count": 214,
   "metadata": {},
   "outputs": [],
   "source": [
    "no_of_cluster=3"
   ]
  },
  {
   "cell_type": "code",
   "execution_count": 215,
   "metadata": {},
   "outputs": [],
   "source": [
    "def estimate_Spu(n_clusters, clusters, gu_users,S_pu_list, betal, lambdal):\n",
    "    newSpu = []\n",
    "    for m in range(len(S_pu_list)):\n",
    "        newSpu.append(np.zeros((S_pu_list[m].shape[0], S_pu_list[m].shape[1])))\n",
    "    Rpu_list = []\n",
    "    for cluster in clusters:\n",
    "        Rpu = np.zeros((n_users, n_items))\n",
    "        for user in cluster:\n",
    "            for ind, item in enumerate(R[user, :]):\n",
    "                if item == 1:\n",
    "                    Rpu[user, ind] = 1\n",
    "        Rpu_list.append(Rpu)\n",
    "    g = gu_users.reshape(-1,1)\n",
    "    gdash = 1-g\n",
    "    A = np.multiply(g,R)\n",
    "    B=[]\n",
    "    for i in range(n_clusters):\n",
    "        B.append(Rpu_list[i])\n",
    "\n",
    "    for item in range(n_items):\n",
    "        for pu in range(n_clusters):\n",
    "            ri  = Rpu_list[pu][:, item]\n",
    "            si = S[:, item]\n",
    "            leftsideofSoftthresholding = ((B[pu].T@ri)).reshape((n_items, 1))\n",
    "            summationofspui = np.zeros((n_users, 1))\n",
    "            for j in range(n_clusters):\n",
    "                if j != pu:\n",
    "                    summationofspui += ((B[j])@(S_pu_list[j][:, item].reshape((n_items,1)))).reshape((n_users, 1))\n",
    "            leftsideofSoftthresholding -= B[pu].T@summationofspui\n",
    "            rightsideofSofthreholding = lambdal\n",
    "            Softthresholdingoutput = soft_thresholding(leftsideofSoftthresholding, rightsideofSofthreholding)\n",
    "            newSpu[pu][:,item] = (np.linalg.inv(betal*np.identity(n_items) + B[pu].T@B[pu])@(Softthresholdingoutput).flatten())\n",
    "    for pu in range(num_clusters):\n",
    "        newSpu[pu] = constraint(newSpu[pu])\n",
    "    return newSpu"
   ]
  },
  {
   "cell_type": "code",
   "execution_count": null,
   "metadata": {},
   "outputs": [],
   "source": [
    "clusters, gu_users, S, S_pu_list = glslim(S, S_pu_list)"
   ]
  },
  {
   "cell_type": "code",
   "execution_count": null,
   "metadata": {},
   "outputs": [],
   "source": [
    "clusters"
   ]
  },
  {
   "cell_type": "code",
   "execution_count": null,
   "metadata": {},
   "outputs": [],
   "source": [
    "# Sample NumPy matrix\n",
    "matrix = np.copy(R)\n",
    "\n",
    "# Initialize list to store random indices\n",
    "random_indices = []\n",
    "\n",
    "# Iterate over each row\n",
    "for row in matrix:\n",
    "    # Get indices of non-zero elements in the row\n",
    "    nonzero_indices = np.nonzero(row)[0]\n",
    "    if len(nonzero_indices) > 0:\n",
    "        # Choose one random index from the non-zero indices\n",
    "        random_index = np.random.choice(nonzero_indices)\n",
    "        random_indices.append(random_index)\n",
    "\n",
    "print(random_indices)"
   ]
  },
  {
   "cell_type": "code",
   "execution_count": null,
   "metadata": {},
   "outputs": [],
   "source": [
    "for ind, row in enumerate(matrix):\n",
    "  row[random_indices[ind]] = 0"
   ]
  },
  {
   "cell_type": "code",
   "execution_count": null,
   "metadata": {},
   "outputs": [],
   "source": []
  },
  {
   "cell_type": "code",
   "execution_count": null,
   "metadata": {},
   "outputs": [],
   "source": []
  },
  {
   "cell_type": "code",
   "execution_count": null,
   "metadata": {},
   "outputs": [],
   "source": []
  },
  {
   "cell_type": "code",
   "execution_count": null,
   "metadata": {},
   "outputs": [],
   "source": []
  },
  {
   "cell_type": "code",
   "execution_count": null,
   "metadata": {},
   "outputs": [],
   "source": []
  },
  {
   "cell_type": "code",
   "execution_count": null,
   "metadata": {},
   "outputs": [],
   "source": []
  },
  {
   "cell_type": "code",
   "execution_count": null,
   "metadata": {},
   "outputs": [],
   "source": []
  },
  {
   "cell_type": "code",
   "execution_count": null,
   "metadata": {},
   "outputs": [],
   "source": []
  },
  {
   "cell_type": "code",
   "execution_count": null,
   "metadata": {},
   "outputs": [],
   "source": []
  },
  {
   "cell_type": "code",
   "execution_count": null,
   "metadata": {},
   "outputs": [],
   "source": []
  },
  {
   "cell_type": "code",
   "execution_count": null,
   "metadata": {},
   "outputs": [],
   "source": []
  },
  {
   "cell_type": "code",
   "execution_count": null,
   "metadata": {},
   "outputs": [],
   "source": []
  },
  {
   "cell_type": "code",
   "execution_count": null,
   "metadata": {},
   "outputs": [],
   "source": []
  },
  {
   "cell_type": "code",
   "execution_count": 216,
   "metadata": {},
   "outputs": [],
   "source": [
    "def lslim(S_pu_list):\n",
    "  gu_users = np.array([0.5 for u in range(n_users)])\n",
    "  n_clusters = 3\n",
    "  clusters = initial_clustering(n_clusters, list(range(n_users)))\n",
    "  print(\"initial cluster: \", clusters)\n",
    "  while True:\n",
    "    count = 0\n",
    "    S_pu_list =estimate_Spu(n_clusters, clusters, gu_users,S_pu_list, 0.2, 0.1)\n",
    "    for u in list(range(n_users)):\n",
    "      storetrainingerror = []\n",
    "\n",
    "      for pu in range(n_clusters):\n",
    "        gu = compute_gu(pu, u)\n",
    "\n",
    "        modR = sum(R[u,:])\n",
    "        training_error = 0\n",
    "        for i, Ruitem in enumerate(R[u,:]):\n",
    "          if Ruitem == 1:\n",
    "            diff = RR[u, i]\n",
    "            rui = 0\n",
    "            for l, Ruitem in enumerate(R[u,:]):\n",
    "              if Ruitem == 1:\n",
    "                rui += S_pu_list[pu][l,i]\n",
    "            diff -= rui\n",
    "            training_error+= diff**2\n",
    "        training_error /= modR\n",
    "        training_error = np.sqrt(training_error)\n",
    "        storetrainingerror.append(training_error)\n",
    "      argminpu = np.argmin(storetrainingerror)\n",
    "      if u not in clusters[argminpu]:\n",
    "        for k in range(n_clusters):\n",
    "          if u in clusters[k]:\n",
    "            clusters[k].remove(u)\n",
    "        clusters[argminpu].append(u)\n",
    "        count +=1\n",
    "      gu_users[u] = gu\n",
    "    print(count/n_users)\n",
    "    if count/n_users <= 0.05:\n",
    "      break\n",
    "  return clusters, S_pu_list"
   ]
  },
  {
   "cell_type": "code",
   "execution_count": 217,
   "metadata": {},
   "outputs": [
    {
     "name": "stdout",
     "output_type": "stream",
     "text": [
      "initial cluster:  [[2, 7], [1, 6], [4, 0, 5, 3]]\n"
     ]
    },
    {
     "name": "stderr",
     "output_type": "stream",
     "text": [
      "/tmp/ipykernel_2757484/4209350880.py:17: RuntimeWarning: invalid value encountered in double_scalars\n",
      "  return numerator/denomenator\n"
     ]
    },
    {
     "name": "stdout",
     "output_type": "stream",
     "text": [
      "0.0\n"
     ]
    }
   ],
   "source": [
    "clusters, S_pu_list = lslim(S_pu_list)"
   ]
  },
  {
   "cell_type": "code",
   "execution_count": 218,
   "metadata": {},
   "outputs": [
    {
     "data": {
      "text/plain": [
       "[[2, 7], [1, 6], [4, 0, 5, 3]]"
      ]
     },
     "execution_count": 218,
     "metadata": {},
     "output_type": "execute_result"
    }
   ],
   "source": [
    "clusters"
   ]
  },
  {
   "cell_type": "code",
   "execution_count": 219,
   "metadata": {},
   "outputs": [],
   "source": [
    "n_clusters=3\n",
    "Rpu_list = []\n",
    "for cluster in clusters:\n",
    "    Rpu = np.zeros((n_users, n_items))\n",
    "    for user in cluster:\n",
    "        for ind, item in enumerate(R[user, :]):\n",
    "            if item == 1:\n",
    "                Rpu[user, ind] = 1\n",
    "    Rpu_list.append(Rpu)"
   ]
  },
  {
   "cell_type": "code",
   "execution_count": 220,
   "metadata": {},
   "outputs": [
    {
     "name": "stdout",
     "output_type": "stream",
     "text": [
      "[10, 30, 50, 77, 106, 194, 44, 545]\n"
     ]
    }
   ],
   "source": [
    "# Sample NumPy matrix\n",
    "matrix = np.copy(R)\n",
    "\n",
    "# Initialize list to store random indices\n",
    "random_indices = []\n",
    "\n",
    "# Iterate over each row\n",
    "for row in matrix:\n",
    "    # Get indices of non-zero elements in the row\n",
    "    nonzero_indices = np.nonzero(row)[0]\n",
    "    if len(nonzero_indices) > 0:\n",
    "        # Choose one random index from the non-zero indices\n",
    "        random_index = np.random.choice(nonzero_indices)\n",
    "        random_indices.append(random_index)\n",
    "\n",
    "print(random_indices)"
   ]
  },
  {
   "cell_type": "code",
   "execution_count": 221,
   "metadata": {},
   "outputs": [],
   "source": [
    "\n",
    "for ind, row in enumerate(matrix):\n",
    "  row[random_indices[ind]] = 0"
   ]
  },
  {
   "cell_type": "code",
   "execution_count": 222,
   "metadata": {},
   "outputs": [],
   "source": [
    "#run glslim on this data, get S and Spu matrices\n",
    "n_clusters = 3\n",
    "user_non_rated_item_predicted_ratings = []\n",
    "for u in list(range(n_users)):\n",
    "  user_store_for_each_item = []\n",
    "  for i, Ruitem in enumerate(matrix[u,:]):\n",
    "    rui = 0\n",
    "    if Ruitem == 0.0:\n",
    "      \n",
    "      user_pu = 0\n",
    "      for pu in range(n_clusters):\n",
    "          if u in clusters[pu]:\n",
    "            user_pu = pu\n",
    "      for l, Ruitem in enumerate(R[u,:]):\n",
    "        if Ruitem == 1:\n",
    "          rui += S_pu_list[user_pu][l,i]\n",
    "    user_store_for_each_item.append((i, rui))\n",
    "  user_store_for_each_item = sorted(user_store_for_each_item, key=lambda x: x[0], reverse=True)\n",
    "  user_non_rated_item_predicted_ratings.append(user_store_for_each_item)"
   ]
  },
  {
   "cell_type": "code",
   "execution_count": 227,
   "metadata": {},
   "outputs": [
    {
     "name": "stdout",
     "output_type": "stream",
     "text": [
      "Hit rate: 0.0\n"
     ]
    }
   ],
   "source": [
    "hits = 0\n",
    "N = 20\n",
    "for user in range(n_users):\n",
    "    recommended_items = [t[0] for t in user_non_rated_item_predicted_ratings[user][:N]]\n",
    "    if random_indices[user] in recommended_items:\n",
    "        hits += 1\n",
    "\n",
    "hit_rate = hits / n_users\n",
    "\n",
    "print(\"Hit rate:\", hit_rate)\n",
    "\n"
   ]
  },
  {
   "cell_type": "code",
   "execution_count": null,
   "metadata": {},
   "outputs": [],
   "source": []
  }
 ],
 "metadata": {
  "colab": {
   "provenance": []
  },
  "kernelspec": {
   "display_name": "Python 3 (ipykernel)",
   "language": "python",
   "name": "python3"
  },
  "language_info": {
   "codemirror_mode": {
    "name": "ipython",
    "version": 3
   },
   "file_extension": ".py",
   "mimetype": "text/x-python",
   "name": "python",
   "nbconvert_exporter": "python",
   "pygments_lexer": "ipython3",
   "version": "3.9.19"
  }
 },
 "nbformat": 4,
 "nbformat_minor": 1
}
