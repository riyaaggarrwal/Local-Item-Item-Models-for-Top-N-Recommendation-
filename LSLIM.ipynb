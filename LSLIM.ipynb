{
 "cells": [
  {
   "cell_type": "code",
   "execution_count": 27,
   "metadata": {
    "colab": {
     "base_uri": "https://localhost:8080/"
    },
    "id": "DFXqH2i347dq",
    "outputId": "878ec6f1-9e76-4135-d502-2ed48d66638e"
   },
   "outputs": [
    {
     "name": "stdout",
     "output_type": "stream",
     "text": [
      "3.9.13 (main, Aug 25 2022, 23:26:10) \n",
      "[GCC 11.2.0]\n"
     ]
    }
   ],
   "source": [
    "import sys\n",
    "\n",
    "print(sys.version)"
   ]
  },
  {
   "cell_type": "code",
   "execution_count": 28,
   "metadata": {
    "id": "5POvQWGE5AcV"
   },
   "outputs": [],
   "source": [
    "import pandas as pd\n",
    "from random import randint\n",
    "\n",
    "import numpy as np\n",
    "# from scipy import spatial\n",
    "import random"
   ]
  },
  {
   "cell_type": "code",
   "execution_count": 29,
   "metadata": {
    "colab": {
     "base_uri": "https://localhost:8080/"
    },
    "id": "vgWY1Kj_5Cvz",
    "outputId": "3c0f9b88-f259-4530-aab6-734ff53159d2"
   },
   "outputs": [
    {
     "name": "stderr",
     "output_type": "stream",
     "text": [
      "/tmp/ipykernel_198423/2193334887.py:1: ParserWarning: Falling back to the 'python' engine because the 'c' engine does not support regex separators (separators > 1 char and different from '\\s+' are interpreted as regex); you can avoid this warning by specifying engine='python'.\n",
      "  data = pd.read_csv('./ratings.dat', sep='::', header = None)  # tab-separated data\n"
     ]
    }
   ],
   "source": [
    "data = pd.read_csv('./ratings.dat', sep='::', header = None)  # tab-separated data"
   ]
  },
  {
   "cell_type": "code",
   "execution_count": 30,
   "metadata": {
    "id": "etyoFhOQ5M_V"
   },
   "outputs": [],
   "source": [
    "data.columns=['User_ID','movie_ID','rating','timestamp']"
   ]
  },
  {
   "cell_type": "code",
   "execution_count": 31,
   "metadata": {
    "id": "HL2Qt4LV5OU3"
   },
   "outputs": [],
   "source": [
    "data.drop('timestamp', axis=1, inplace=True)"
   ]
  },
  {
   "cell_type": "code",
   "execution_count": 32,
   "metadata": {
    "id": "pxeGeZO_5Roc"
   },
   "outputs": [],
   "source": [
    "data = data.head(2200)"
   ]
  },
  {
   "cell_type": "code",
   "execution_count": 33,
   "metadata": {
    "colab": {
     "base_uri": "https://localhost:8080/",
     "height": 424
    },
    "id": "JxzF0_rI5T1I",
    "outputId": "035b964f-d8d8-4b46-90ce-6995089208ba"
   },
   "outputs": [
    {
     "data": {
      "text/html": [
       "<div>\n",
       "<style scoped>\n",
       "    .dataframe tbody tr th:only-of-type {\n",
       "        vertical-align: middle;\n",
       "    }\n",
       "\n",
       "    .dataframe tbody tr th {\n",
       "        vertical-align: top;\n",
       "    }\n",
       "\n",
       "    .dataframe thead th {\n",
       "        text-align: right;\n",
       "    }\n",
       "</style>\n",
       "<table border=\"1\" class=\"dataframe\">\n",
       "  <thead>\n",
       "    <tr style=\"text-align: right;\">\n",
       "      <th></th>\n",
       "      <th>User_ID</th>\n",
       "      <th>movie_ID</th>\n",
       "      <th>rating</th>\n",
       "    </tr>\n",
       "  </thead>\n",
       "  <tbody>\n",
       "    <tr>\n",
       "      <th>0</th>\n",
       "      <td>1</td>\n",
       "      <td>122</td>\n",
       "      <td>5.0</td>\n",
       "    </tr>\n",
       "    <tr>\n",
       "      <th>1</th>\n",
       "      <td>1</td>\n",
       "      <td>185</td>\n",
       "      <td>5.0</td>\n",
       "    </tr>\n",
       "    <tr>\n",
       "      <th>2</th>\n",
       "      <td>1</td>\n",
       "      <td>231</td>\n",
       "      <td>5.0</td>\n",
       "    </tr>\n",
       "    <tr>\n",
       "      <th>3</th>\n",
       "      <td>1</td>\n",
       "      <td>292</td>\n",
       "      <td>5.0</td>\n",
       "    </tr>\n",
       "    <tr>\n",
       "      <th>4</th>\n",
       "      <td>1</td>\n",
       "      <td>316</td>\n",
       "      <td>5.0</td>\n",
       "    </tr>\n",
       "    <tr>\n",
       "      <th>...</th>\n",
       "      <td>...</td>\n",
       "      <td>...</td>\n",
       "      <td>...</td>\n",
       "    </tr>\n",
       "    <tr>\n",
       "      <th>2195</th>\n",
       "      <td>19</td>\n",
       "      <td>50</td>\n",
       "      <td>5.0</td>\n",
       "    </tr>\n",
       "    <tr>\n",
       "      <th>2196</th>\n",
       "      <td>19</td>\n",
       "      <td>62</td>\n",
       "      <td>4.0</td>\n",
       "    </tr>\n",
       "    <tr>\n",
       "      <th>2197</th>\n",
       "      <td>19</td>\n",
       "      <td>74</td>\n",
       "      <td>5.0</td>\n",
       "    </tr>\n",
       "    <tr>\n",
       "      <th>2198</th>\n",
       "      <td>19</td>\n",
       "      <td>85</td>\n",
       "      <td>2.0</td>\n",
       "    </tr>\n",
       "    <tr>\n",
       "      <th>2199</th>\n",
       "      <td>19</td>\n",
       "      <td>110</td>\n",
       "      <td>5.0</td>\n",
       "    </tr>\n",
       "  </tbody>\n",
       "</table>\n",
       "<p>2200 rows × 3 columns</p>\n",
       "</div>"
      ],
      "text/plain": [
       "      User_ID  movie_ID  rating\n",
       "0           1       122     5.0\n",
       "1           1       185     5.0\n",
       "2           1       231     5.0\n",
       "3           1       292     5.0\n",
       "4           1       316     5.0\n",
       "...       ...       ...     ...\n",
       "2195       19        50     5.0\n",
       "2196       19        62     4.0\n",
       "2197       19        74     5.0\n",
       "2198       19        85     2.0\n",
       "2199       19       110     5.0\n",
       "\n",
       "[2200 rows x 3 columns]"
      ]
     },
     "execution_count": 33,
     "metadata": {},
     "output_type": "execute_result"
    }
   ],
   "source": [
    "data"
   ]
  },
  {
   "cell_type": "code",
   "execution_count": 34,
   "metadata": {
    "id": "SJ_pUyyc5Wab"
   },
   "outputs": [],
   "source": [
    "# Get unique User_IDs and movie_IDs\n",
    "unique_users = data['User_ID'].unique()\n",
    "unique_items = data['movie_ID'].unique()"
   ]
  },
  {
   "cell_type": "code",
   "execution_count": 35,
   "metadata": {
    "colab": {
     "base_uri": "https://localhost:8080/"
    },
    "id": "gqoX-U7_5Y11",
    "outputId": "56d1ec04-5e19-4b13-e71d-a2438a614482"
   },
   "outputs": [
    {
     "name": "stdout",
     "output_type": "stream",
     "text": [
      "18\n",
      "1406\n"
     ]
    }
   ],
   "source": [
    "# Number of users and items\n",
    "n_users = len(unique_users)\n",
    "n_items = len(unique_items)\n",
    "print(n_users)\n",
    "print(n_items)"
   ]
  },
  {
   "cell_type": "code",
   "execution_count": 36,
   "metadata": {
    "id": "J3czzutI5a7s"
   },
   "outputs": [],
   "source": [
    "\n",
    "# Initialize R matrix with zeros\n",
    "R = pd.DataFrame(0, index=unique_users, columns=unique_items, dtype=float)\n",
    "RR = pd.DataFrame(0, index=unique_users, columns=unique_items, dtype=float)\n",
    "\n",
    "# Fill R matrix based on the dataset\n",
    "for index, row in data.iterrows():\n",
    "    user_id = row['User_ID']\n",
    "    item_id = row['movie_ID']\n",
    "    # If there's a rating provided, set the corresponding entry to 1\n",
    "    # if not pd.isnull(row['rating']):\n",
    "    R.loc[user_id, item_id] = 1\n",
    "    RR.loc[user_id, item_id] = row['rating']"
   ]
  },
  {
   "cell_type": "code",
   "execution_count": 37,
   "metadata": {
    "id": "0Kvv00xq5dYp"
   },
   "outputs": [],
   "source": [
    "R.reset_index(drop=True, inplace=True)\n",
    "RR.reset_index(drop=True, inplace=True)"
   ]
  },
  {
   "cell_type": "code",
   "execution_count": 38,
   "metadata": {
    "id": "2xkAjAZH5fWH"
   },
   "outputs": [],
   "source": [
    "R.columns = range(len(R.columns))\n",
    "RR.columns = range(len(RR.columns))"
   ]
  },
  {
   "cell_type": "code",
   "execution_count": 39,
   "metadata": {
    "id": "3T4wHZ1S5hG6"
   },
   "outputs": [],
   "source": [
    "R = R.values\n",
    "RR = RR.values"
   ]
  },
  {
   "cell_type": "code",
   "execution_count": 40,
   "metadata": {
    "colab": {
     "base_uri": "https://localhost:8080/"
    },
    "id": "s-oJvHhZ5jMu",
    "outputId": "6442071c-18e6-4a79-a84a-4e6ab577b5fe"
   },
   "outputs": [
    {
     "data": {
      "text/plain": [
       "array([ 1,  2,  3,  4,  5,  6,  7,  8,  9, 10, 11, 12, 13, 14, 16, 17, 18,\n",
       "       19])"
      ]
     },
     "execution_count": 40,
     "metadata": {},
     "output_type": "execute_result"
    }
   ],
   "source": [
    "unique_users"
   ]
  },
  {
   "cell_type": "code",
   "execution_count": 41,
   "metadata": {
    "id": "kk56_JDe5lPw"
   },
   "outputs": [],
   "source": [
    "# Define the shape of the matrix\n",
    "rows = R.shape[1]\n",
    "cols = R.shape[1]\n",
    "\n",
    "# Generate the zero matrix with values between 0 and 1\n",
    "S = np.random.rand(rows, cols)\n"
   ]
  },
  {
   "cell_type": "code",
   "execution_count": 42,
   "metadata": {
    "colab": {
     "base_uri": "https://localhost:8080/"
    },
    "id": "MfMypX9J5tMY",
    "outputId": "c82e813b-ef4d-4dbc-9bd4-48e2bcdadf39"
   },
   "outputs": [
    {
     "data": {
      "text/plain": [
       "3"
      ]
     },
     "execution_count": 42,
     "metadata": {},
     "output_type": "execute_result"
    }
   ],
   "source": [
    "def generate_S_pu(num_clusters, rows):\n",
    "    S_pu_list = []\n",
    "    for _ in range(num_clusters):\n",
    "        S_pu = np.random.rand(rows, rows)  # Generate zero matrix with values between 0 and 1\n",
    "        S_pu_list.append(S_pu)\n",
    "    return S_pu_list\n",
    "\n",
    "# Define parameters\n",
    "num_clusters = 3\n",
    "# Generate random matrices for each cluster\n",
    "S_pu_list = generate_S_pu(num_clusters, rows)\n",
    "len(S_pu_list)"
   ]
  },
  {
   "cell_type": "code",
   "execution_count": 43,
   "metadata": {
    "id": "oCmJjOx-5ton"
   },
   "outputs": [],
   "source": [
    "def constraint(matrix):\n",
    "    for i in range(matrix.shape[0]):\n",
    "        for j in range(matrix.shape[1]):\n",
    "            if i==j:\n",
    "                matrix[i,j] = 0\n",
    "    return matrix"
   ]
  },
  {
   "cell_type": "code",
   "execution_count": 44,
   "metadata": {
    "id": "eAat2b3F5v8l"
   },
   "outputs": [],
   "source": [
    "S = constraint(S)\n",
    "for pu in range(num_clusters):\n",
    "    S_pu_list[pu] = constraint(S_pu_list[pu])"
   ]
  },
  {
   "cell_type": "code",
   "execution_count": 45,
   "metadata": {
    "colab": {
     "base_uri": "https://localhost:8080/"
    },
    "id": "f85NTShK5x2l",
    "outputId": "bd0234ab-f135-4755-c6f4-f731b4bcbbda"
   },
   "outputs": [
    {
     "name": "stdout",
     "output_type": "stream",
     "text": [
      "S_pu matrix for cluster 1:\n",
      "[[0.         0.82867463 0.34519503 ... 0.67568939 0.10641871 0.78159778]\n",
      " [0.93929926 0.         0.22329622 ... 0.26108711 0.57038464 0.67985581]\n",
      " [0.93210803 0.16342133 0.         ... 0.88368869 0.28313736 0.24943378]\n",
      " ...\n",
      " [0.1463321  0.30088542 0.48306465 ... 0.         0.8502947  0.14283493]\n",
      " [0.38528735 0.98698222 0.80245514 ... 0.92032022 0.         0.41439525]\n",
      " [0.415272   0.08312712 0.5926419  ... 0.13250954 0.35433125 0.        ]]\n",
      "\n",
      "S_pu matrix for cluster 2:\n",
      "[[0.         0.88604678 0.3202995  ... 0.73899099 0.88565231 0.30704747]\n",
      " [0.10098696 0.         0.69826795 ... 0.29233706 0.81022877 0.32161982]\n",
      " [0.50446307 0.02874567 0.         ... 0.50164469 0.66123893 0.69408594]\n",
      " ...\n",
      " [0.81461416 0.92935243 0.22396142 ... 0.         0.4817775  0.40160614]\n",
      " [0.05768177 0.01092868 0.98251071 ... 0.26937088 0.         0.41553374]\n",
      " [0.58935516 0.35484307 0.74087855 ... 0.01435967 0.16454854 0.        ]]\n",
      "\n",
      "S_pu matrix for cluster 3:\n",
      "[[0.         0.72048722 0.93970156 ... 0.57179054 0.55251121 0.43847535]\n",
      " [0.12950433 0.         0.06444454 ... 0.18515924 0.9257999  0.5527128 ]\n",
      " [0.76071668 0.3242174  0.         ... 0.48513073 0.72106423 0.33027563]\n",
      " ...\n",
      " [0.75309681 0.74487729 0.16920238 ... 0.         0.72839599 0.01387189]\n",
      " [0.89259922 0.26961603 0.72738068 ... 0.78540971 0.         0.24460822]\n",
      " [0.25635697 0.29169071 0.06962085 ... 0.11828034 0.92691142 0.        ]]\n",
      "\n"
     ]
    }
   ],
   "source": [
    "# Print the list of random matrices\n",
    "for i, S_pu in enumerate(S_pu_list):\n",
    "    print(f\"S_pu matrix for cluster {i+1}:\\n{S_pu}\\n\")"
   ]
  },
  {
   "cell_type": "code",
   "execution_count": 46,
   "metadata": {
    "id": "hvy4NbRh5zkb"
   },
   "outputs": [],
   "source": [
    "def initial_clustering(n_clusters, users):\n",
    "  random.shuffle(users)  # Shuffle the list randomly\n",
    "  sublists = []\n",
    "  size_sublist = len(users) //n_clusters  # Determine the size of each sublist\n",
    "\n",
    "  # Split the shuffled list into n sublists\n",
    "  for i in range(n_clusters):\n",
    "      start = i * size_sublist\n",
    "      end = (i + 1) * size_sublist if i < n_clusters - 1 else None\n",
    "      sublists.append(users[start:end])\n",
    "  return sublists"
   ]
  },
  {
   "cell_type": "code",
   "execution_count": 47,
   "metadata": {
    "id": "PTpRI7wh514G"
   },
   "outputs": [],
   "source": [
    "def compute_gu(pu,u):\n",
    "  numerator = 0\n",
    "  denomenator = 0\n",
    "  for item in range(n_items):\n",
    "\n",
    "    multiplier1 = 0\n",
    "    for ind, Ruitem in enumerate(R[u,:]):\n",
    "      if Ruitem == 1:\n",
    "        multiplier1 += S[ind, item] - S_pu_list[pu][ind, item]\n",
    "        denomenator += (S[ind, item] - S_pu_list[pu][ind, item])**2\n",
    "    multiplier2 = R[u, item]\n",
    "    for ind, Ruitem in enumerate(R[u,:]):\n",
    "      if Ruitem == 1:\n",
    "        multiplier2 -= S_pu_list[pu][ind, item]\n",
    "\n",
    "    numerator += multiplier1*multiplier2\n",
    "  return numerator/denomenator\n"
   ]
  },
  {
   "cell_type": "code",
   "execution_count": 48,
   "metadata": {
    "id": "yohOp3Uz533i"
   },
   "outputs": [],
   "source": [
    "def soft_thresholding(vect, lamb):\n",
    "    for index, item in enumerate(vect):\n",
    "        vect[index] = np.maximum(np.sign(item)*(np.abs(item)- lamb),0)\n",
    "    return vect"
   ]
  },
  {
   "cell_type": "code",
   "execution_count": 49,
   "metadata": {
    "id": "5yMAqcG8556h"
   },
   "outputs": [],
   "source": [
    "no_of_cluster=3"
   ]
  },
  {
   "cell_type": "code",
   "execution_count": 50,
   "metadata": {
    "id": "Rw7ipyJG6AAw"
   },
   "outputs": [],
   "source": [
    "def estimate_Spu(n_clusters, clusters, gu_users,S_pu_list, betal, lambdal):\n",
    "    newSpu = []\n",
    "    for m in range(len(S_pu_list)):\n",
    "        newSpu.append(np.zeros((S_pu_list[m].shape[0], S_pu_list[m].shape[1])))\n",
    "    Rpu_list = []\n",
    "    for cluster in clusters:\n",
    "        Rpu = np.zeros((n_users, n_items))\n",
    "        for user in cluster:\n",
    "            for ind, item in enumerate(R[user, :]):\n",
    "                if item == 1:\n",
    "                    Rpu[user, ind] = 1\n",
    "        Rpu_list.append(Rpu)\n",
    "    g = gu_users.reshape(-1,1)\n",
    "    gdash = 1-g\n",
    "    A = np.multiply(g,R)\n",
    "    B=[]\n",
    "    for i in range(n_clusters):\n",
    "        B.append(Rpu_list[i])\n",
    "\n",
    "    for item in range(n_items):\n",
    "        for pu in range(n_clusters):\n",
    "            ri  = Rpu_list[pu][:, item]\n",
    "            si = S[:, item]\n",
    "            leftsideofSoftthresholding = ((B[pu].T@ri)).reshape((n_items, 1))\n",
    "            summationofspui = np.zeros((n_users, 1))\n",
    "            for j in range(n_clusters):\n",
    "                if j != pu:\n",
    "                    summationofspui += ((B[j])@(S_pu_list[j][:, item].reshape((n_items,1)))).reshape((n_users, 1))\n",
    "            leftsideofSoftthresholding -= B[pu].T@summationofspui\n",
    "            rightsideofSofthreholding = lambdal\n",
    "            Softthresholdingoutput = soft_thresholding(leftsideofSoftthresholding, rightsideofSofthreholding)\n",
    "            newSpu[pu][:,item] = (np.linalg.inv(betal*np.identity(n_items) + B[pu].T@B[pu])@(Softthresholdingoutput).flatten())\n",
    "    for pu in range(num_clusters):\n",
    "        newSpu[pu] = constraint(newSpu[pu])\n",
    "    return newSpu"
   ]
  },
  {
   "cell_type": "code",
   "execution_count": 51,
   "metadata": {
    "id": "suVh6xx06D91"
   },
   "outputs": [],
   "source": [
    "def lslim(S_pu_list):\n",
    "  gu_users = np.array([0.5 for u in range(n_users)])\n",
    "  n_clusters = 3\n",
    "  clusters = initial_clustering(n_clusters, list(range(n_users)))\n",
    "  print(\"initial cluster: \", clusters)\n",
    "  while True:\n",
    "    count = 0\n",
    "    S_pu_list =estimate_Spu(n_clusters, clusters, gu_users,S_pu_list, 0.2, 0.1)\n",
    "    for u in list(range(n_users)):\n",
    "      storetrainingerror = []\n",
    "\n",
    "      for pu in range(n_clusters):\n",
    "        gu = compute_gu(pu, u)\n",
    "\n",
    "        modR = sum(R[u,:])\n",
    "        training_error = 0\n",
    "        for i, Ruitem in enumerate(R[u,:]):\n",
    "          if Ruitem == 1:\n",
    "            diff = RR[u, i]\n",
    "            rui = 0\n",
    "            for l, Ruitem in enumerate(R[u,:]):\n",
    "              if Ruitem == 1:\n",
    "                rui += S_pu_list[pu][l,i]\n",
    "            diff -= rui\n",
    "            training_error+= diff**2\n",
    "        training_error /= modR\n",
    "        training_error = np.sqrt(training_error)\n",
    "        storetrainingerror.append(training_error)\n",
    "      argminpu = np.argmin(storetrainingerror)\n",
    "      if u not in clusters[argminpu]:\n",
    "        for k in range(n_clusters):\n",
    "          if u in clusters[k]:\n",
    "            clusters[k].remove(u)\n",
    "        clusters[argminpu].append(u)\n",
    "        count +=1\n",
    "      gu_users[u] = gu\n",
    "    print(count/n_users)\n",
    "    if count/n_users <= 0.05:\n",
    "      break\n",
    "  return clusters, S_pu_list"
   ]
  },
  {
   "cell_type": "code",
   "execution_count": 52,
   "metadata": {
    "colab": {
     "base_uri": "https://localhost:8080/"
    },
    "id": "hwsQft9C6IrI",
    "outputId": "1ee83e1c-2a19-421c-88fb-3078ec08637c"
   },
   "outputs": [
    {
     "name": "stdout",
     "output_type": "stream",
     "text": [
      "initial cluster:  [[3, 12, 14, 1, 6, 10], [11, 4, 17, 15, 9, 16], [7, 5, 13, 0, 8, 2]]\n",
      "0.0\n"
     ]
    }
   ],
   "source": [
    "clusters, S_pu_list = lslim(S_pu_list)"
   ]
  },
  {
   "cell_type": "code",
   "execution_count": 53,
   "metadata": {
    "colab": {
     "base_uri": "https://localhost:8080/"
    },
    "id": "80yaDzRv6K3J",
    "outputId": "2caf8e94-1d3f-48d9-e2c2-c66eb2b5e53a"
   },
   "outputs": [
    {
     "data": {
      "text/plain": [
       "[[3, 12, 14, 1, 6, 10], [11, 4, 17, 15, 9, 16], [7, 5, 13, 0, 8, 2]]"
      ]
     },
     "execution_count": 53,
     "metadata": {},
     "output_type": "execute_result"
    }
   ],
   "source": [
    "clusters"
   ]
  },
  {
   "cell_type": "code",
   "execution_count": 54,
   "metadata": {
    "id": "h3E6MXS76M3V"
   },
   "outputs": [],
   "source": [
    "n_clusters=3\n",
    "Rpu_list = []\n",
    "for cluster in clusters:\n",
    "    Rpu = np.zeros((n_users, n_items))\n",
    "    for user in cluster:\n",
    "        for ind, item in enumerate(R[user, :]):\n",
    "            if item == 1:\n",
    "                Rpu[user, ind] = 1\n",
    "    Rpu_list.append(Rpu)"
   ]
  },
  {
   "cell_type": "code",
   "execution_count": 55,
   "metadata": {
    "colab": {
     "base_uri": "https://localhost:8080/"
    },
    "id": "4DWM6bLg6O0I",
    "outputId": "38ccaa5e-2968-4b90-f8b8-6346019eae1f"
   },
   "outputs": [
    {
     "name": "stdout",
     "output_type": "stream",
     "text": [
      "[7, 31, 68, 84, 79, 34, 223, 678, 998, 1009, 40, 1096, 760, 1230, 525, 1267, 1324, 73]\n"
     ]
    }
   ],
   "source": [
    "# Sample NumPy matrix\n",
    "matrix = np.copy(R)\n",
    "\n",
    "# Initialize list to store random indices\n",
    "random_indices = []\n",
    "\n",
    "# Iterate over each row\n",
    "for row in matrix:\n",
    "    # Get indices of non-zero elements in the row\n",
    "    nonzero_indices = np.nonzero(row)[0]\n",
    "    if len(nonzero_indices) > 0:\n",
    "        # Choose one random index from the non-zero indices\n",
    "        random_index = np.random.choice(nonzero_indices)\n",
    "        random_indices.append(random_index)\n",
    "\n",
    "print(random_indices)"
   ]
  },
  {
   "cell_type": "code",
   "execution_count": 56,
   "metadata": {
    "id": "9FIuGkVF6s9Y"
   },
   "outputs": [],
   "source": [
    "for ind, row in enumerate(matrix):\n",
    "  row[random_indices[ind]] = 0"
   ]
  },
  {
   "cell_type": "code",
   "execution_count": 57,
   "metadata": {
    "id": "DSuaW6dH6yMa"
   },
   "outputs": [],
   "source": [
    "#run glslim on this data, get S and Spu matrices\n",
    "n_clusters = 3\n",
    "user_non_rated_item_predicted_ratings = []\n",
    "for u in list(range(n_users)):\n",
    "  user_store_for_each_item = []\n",
    "  for i, Ruitem in enumerate(matrix[u,:]):\n",
    "    rui = 0\n",
    "    if Ruitem == 0.0:\n",
    "\n",
    "      user_pu = 0\n",
    "      for pu in range(n_clusters):\n",
    "          if u in clusters[pu]:\n",
    "            user_pu = pu\n",
    "      for l, Ruitem in enumerate(R[u,:]):\n",
    "        if Ruitem == 1:\n",
    "          rui += S_pu_list[user_pu][l,i]\n",
    "    user_store_for_each_item.append((i, rui))\n",
    "  user_store_for_each_item = sorted(user_store_for_each_item, key=lambda x: x[0], reverse=True)\n",
    "  user_non_rated_item_predicted_ratings.append(user_store_for_each_item)"
   ]
  },
  {
   "cell_type": "code",
   "execution_count": 58,
   "metadata": {
    "colab": {
     "base_uri": "https://localhost:8080/"
    },
    "id": "z-247TmK602C",
    "outputId": "9efa5598-776c-4e58-8f8d-2b571dd137d9"
   },
   "outputs": [
    {
     "name": "stdout",
     "output_type": "stream",
     "text": [
      "Hit rate: 0.0\n"
     ]
    }
   ],
   "source": [
    "hits = 0\n",
    "N = 20\n",
    "for user in range(n_users):\n",
    "    recommended_items = [t[0] for t in user_non_rated_item_predicted_ratings[user][:N]]\n",
    "    if random_indices[user] in recommended_items:\n",
    "        hits += 1\n",
    "\n",
    "hit_rate = hits / n_users\n",
    "\n",
    "print(\"Hit rate:\", hit_rate)"
   ]
  },
  {
   "cell_type": "code",
   "execution_count": null,
   "metadata": {
    "id": "fMTaWeIs9ryj"
   },
   "outputs": [],
   "source": []
  },
  {
   "cell_type": "code",
   "execution_count": 59,
   "metadata": {},
   "outputs": [],
   "source": [
    "# For 4 clusters"
   ]
  },
  {
   "cell_type": "code",
   "execution_count": 60,
   "metadata": {},
   "outputs": [
    {
     "data": {
      "text/plain": [
       "4"
      ]
     },
     "execution_count": 60,
     "metadata": {},
     "output_type": "execute_result"
    }
   ],
   "source": [
    "def generate_S_pu(num_clusters, rows):\n",
    "    S_pu_list = []\n",
    "    for _ in range(num_clusters):\n",
    "        S_pu = np.random.rand(rows, rows)  # Generate zero matrix with values between 0 and 1\n",
    "        S_pu_list.append(S_pu)\n",
    "    return S_pu_list\n",
    "\n",
    "# Define parameters\n",
    "num_clusters = 4\n",
    "# Generate random matrices for each cluster\n",
    "S_pu_list = generate_S_pu(num_clusters, rows)\n",
    "len(S_pu_list)"
   ]
  },
  {
   "cell_type": "code",
   "execution_count": 61,
   "metadata": {},
   "outputs": [],
   "source": [
    "def constraint(matrix):\n",
    "    for i in range(matrix.shape[0]):\n",
    "        for j in range(matrix.shape[1]):\n",
    "            if i==j:\n",
    "                matrix[i,j] = 0\n",
    "    return matrix"
   ]
  },
  {
   "cell_type": "code",
   "execution_count": 62,
   "metadata": {},
   "outputs": [],
   "source": [
    "S = constraint(S)\n",
    "for pu in range(num_clusters):\n",
    "    S_pu_list[pu] = constraint(S_pu_list[pu])"
   ]
  },
  {
   "cell_type": "code",
   "execution_count": 63,
   "metadata": {},
   "outputs": [],
   "source": [
    "def estimate_Spu(n_clusters, clusters, gu_users,S_pu_list, betal, lambdal):\n",
    "    newSpu = []\n",
    "    for m in range(len(S_pu_list)):\n",
    "        newSpu.append(np.zeros((S_pu_list[m].shape[0], S_pu_list[m].shape[1])))\n",
    "    Rpu_list = []\n",
    "    for cluster in clusters:\n",
    "        Rpu = np.zeros((n_users, n_items))\n",
    "        for user in cluster:\n",
    "            for ind, item in enumerate(R[user, :]):\n",
    "                if item == 1:\n",
    "                    Rpu[user, ind] = 1\n",
    "        Rpu_list.append(Rpu)\n",
    "    g = gu_users.reshape(-1,1)\n",
    "    gdash = 1-g\n",
    "    A = np.multiply(g,R)\n",
    "    B=[]\n",
    "    for i in range(n_clusters):\n",
    "        B.append(Rpu_list[i])\n",
    "\n",
    "    for item in range(n_items):\n",
    "        for pu in range(n_clusters):\n",
    "            ri  = Rpu_list[pu][:, item]\n",
    "            si = S[:, item]\n",
    "            leftsideofSoftthresholding = ((B[pu].T@ri)).reshape((n_items, 1))\n",
    "            summationofspui = np.zeros((n_users, 1))\n",
    "            for j in range(n_clusters):\n",
    "                if j != pu:\n",
    "                    summationofspui += ((B[j])@(S_pu_list[j][:, item].reshape((n_items,1)))).reshape((n_users, 1))\n",
    "            leftsideofSoftthresholding -= B[pu].T@summationofspui\n",
    "            rightsideofSofthreholding = lambdal\n",
    "            Softthresholdingoutput = soft_thresholding(leftsideofSoftthresholding, rightsideofSofthreholding)\n",
    "            newSpu[pu][:,item] = (np.linalg.inv(betal*np.identity(n_items) + B[pu].T@B[pu])@(Softthresholdingoutput).flatten())\n",
    "    for pu in range(num_clusters):\n",
    "        newSpu[pu] = constraint(newSpu[pu])\n",
    "    return newSpu"
   ]
  },
  {
   "cell_type": "code",
   "execution_count": 64,
   "metadata": {},
   "outputs": [],
   "source": [
    "def lslim(S_pu_list):\n",
    "  gu_users = np.array([0.5 for u in range(n_users)])\n",
    "  n_clusters = 4\n",
    "  clusters = initial_clustering(n_clusters, list(range(n_users)))\n",
    "  print(\"initial cluster: \", clusters)\n",
    "  while True:\n",
    "    count = 0\n",
    "    S_pu_list =estimate_Spu(n_clusters, clusters, gu_users,S_pu_list, 0.2, 0.1)\n",
    "    for u in list(range(n_users)):\n",
    "      storetrainingerror = []\n",
    "\n",
    "      for pu in range(n_clusters):\n",
    "        gu = compute_gu(pu, u)\n",
    "\n",
    "        modR = sum(R[u,:])\n",
    "        training_error = 0\n",
    "        for i, Ruitem in enumerate(R[u,:]):\n",
    "          if Ruitem == 1:\n",
    "            diff = RR[u, i]\n",
    "            rui = 0\n",
    "            for l, Ruitem in enumerate(R[u,:]):\n",
    "              if Ruitem == 1:\n",
    "                rui += S_pu_list[pu][l,i]\n",
    "            diff -= rui\n",
    "            training_error+= diff**2\n",
    "        training_error /= modR\n",
    "        training_error = np.sqrt(training_error)\n",
    "        storetrainingerror.append(training_error)\n",
    "      argminpu = np.argmin(storetrainingerror)\n",
    "      if u not in clusters[argminpu]:\n",
    "        for k in range(n_clusters):\n",
    "          if u in clusters[k]:\n",
    "            clusters[k].remove(u)\n",
    "        clusters[argminpu].append(u)\n",
    "        count +=1\n",
    "      gu_users[u] = gu\n",
    "    print(count/n_users)\n",
    "    if count/n_users <= 0.05:\n",
    "      break\n",
    "  return clusters, S_pu_list"
   ]
  },
  {
   "cell_type": "code",
   "execution_count": 65,
   "metadata": {},
   "outputs": [
    {
     "name": "stdout",
     "output_type": "stream",
     "text": [
      "initial cluster:  [[14, 2, 0, 8], [7, 11, 15, 12], [10, 3, 1, 13], [4, 17, 6, 9, 16, 5]]\n",
      "0.0\n"
     ]
    }
   ],
   "source": [
    "clusters, S_pu_list = lslim(S_pu_list)"
   ]
  },
  {
   "cell_type": "code",
   "execution_count": null,
   "metadata": {},
   "outputs": [],
   "source": []
  },
  {
   "cell_type": "code",
   "execution_count": 66,
   "metadata": {},
   "outputs": [
    {
     "data": {
      "text/plain": [
       "[[14, 2, 0, 8], [7, 11, 15, 12], [10, 3, 1, 13], [4, 17, 6, 9, 16, 5]]"
      ]
     },
     "execution_count": 66,
     "metadata": {},
     "output_type": "execute_result"
    }
   ],
   "source": [
    "clusters"
   ]
  },
  {
   "cell_type": "code",
   "execution_count": 67,
   "metadata": {},
   "outputs": [],
   "source": [
    "n_clusters=4\n",
    "Rpu_list = []\n",
    "for cluster in clusters:\n",
    "    Rpu = np.zeros((n_users, n_items))\n",
    "    for user in cluster:\n",
    "        for ind, item in enumerate(R[user, :]):\n",
    "            if item == 1:\n",
    "                Rpu[user, ind] = 1\n",
    "    Rpu_list.append(Rpu)"
   ]
  },
  {
   "cell_type": "code",
   "execution_count": 68,
   "metadata": {},
   "outputs": [
    {
     "name": "stdout",
     "output_type": "stream",
     "text": [
      "[12, 31, 45, 19, 104, 207, 236, 353, 704, 1017, 48, 605, 1117, 505, 137, 192, 707, 99]\n"
     ]
    }
   ],
   "source": [
    "# Sample NumPy matrix\n",
    "matrix = np.copy(R)\n",
    "\n",
    "# Initialize list to store random indices\n",
    "random_indices = []\n",
    "\n",
    "# Iterate over each row\n",
    "for row in matrix:\n",
    "    # Get indices of non-zero elements in the row\n",
    "    nonzero_indices = np.nonzero(row)[0]\n",
    "    if len(nonzero_indices) > 0:\n",
    "        # Choose one random index from the non-zero indices\n",
    "        random_index = np.random.choice(nonzero_indices)\n",
    "        random_indices.append(random_index)\n",
    "\n",
    "print(random_indices)"
   ]
  },
  {
   "cell_type": "code",
   "execution_count": 69,
   "metadata": {},
   "outputs": [],
   "source": [
    "for ind, row in enumerate(matrix):\n",
    "  row[random_indices[ind]] = 0"
   ]
  },
  {
   "cell_type": "code",
   "execution_count": 70,
   "metadata": {},
   "outputs": [],
   "source": [
    "#run glslim on this data, get S and Spu matrices\n",
    "n_clusters = 4\n",
    "user_non_rated_item_predicted_ratings = []\n",
    "for u in list(range(n_users)):\n",
    "  user_store_for_each_item = []\n",
    "  for i, Ruitem in enumerate(matrix[u,:]):\n",
    "    rui = 0\n",
    "    if Ruitem == 0.0:\n",
    "\n",
    "      user_pu = 0\n",
    "      for pu in range(n_clusters):\n",
    "          if u in clusters[pu]:\n",
    "            user_pu = pu\n",
    "      for l, Ruitem in enumerate(R[u,:]):\n",
    "        if Ruitem == 1:\n",
    "          rui += S_pu_list[user_pu][l,i]\n",
    "    user_store_for_each_item.append((i, rui))\n",
    "  user_store_for_each_item = sorted(user_store_for_each_item, key=lambda x: x[0], reverse=True)\n",
    "  user_non_rated_item_predicted_ratings.append(user_store_for_each_item)"
   ]
  },
  {
   "cell_type": "code",
   "execution_count": 71,
   "metadata": {},
   "outputs": [
    {
     "name": "stdout",
     "output_type": "stream",
     "text": [
      "Hit rate: 0.0\n"
     ]
    }
   ],
   "source": [
    "hits = 0\n",
    "N = 30\n",
    "for user in range(n_users):\n",
    "    recommended_items = [t[0] for t in user_non_rated_item_predicted_ratings[user][:N]]\n",
    "    if random_indices[user] in recommended_items:\n",
    "        hits += 1\n",
    "\n",
    "hit_rate = hits / n_users\n",
    "\n",
    "print(\"Hit rate:\", hit_rate)"
   ]
  },
  {
   "cell_type": "code",
   "execution_count": null,
   "metadata": {},
   "outputs": [],
   "source": []
  },
  {
   "cell_type": "code",
   "execution_count": 46,
   "metadata": {},
   "outputs": [],
   "source": [
    "#For 5 clusters"
   ]
  },
  {
   "cell_type": "code",
   "execution_count": 62,
   "metadata": {},
   "outputs": [
    {
     "data": {
      "text/plain": [
       "5"
      ]
     },
     "execution_count": 62,
     "metadata": {},
     "output_type": "execute_result"
    }
   ],
   "source": [
    "def generate_S_pu(num_clusters, rows):\n",
    "    S_pu_list = []\n",
    "    for _ in range(num_clusters):\n",
    "        S_pu = np.random.rand(rows, rows)  # Generate zero matrix with values between 0 and 1\n",
    "        S_pu_list.append(S_pu)\n",
    "    return S_pu_list\n",
    "\n",
    "# Define parameters\n",
    "num_clusters = 5\n",
    "# Generate random matrices for each cluster\n",
    "S_pu_list = generate_S_pu(num_clusters, rows)\n",
    "len(S_pu_list)"
   ]
  },
  {
   "cell_type": "code",
   "execution_count": 63,
   "metadata": {},
   "outputs": [],
   "source": [
    "def lslim(S_pu_list):\n",
    "  gu_users = np.array([0.5 for u in range(n_users)])\n",
    "  n_clusters = 5\n",
    "  clusters = initial_clustering(n_clusters, list(range(n_users)))\n",
    "  print(\"initial cluster: \", clusters)\n",
    "  while True:\n",
    "    count = 0\n",
    "    S_pu_list =estimate_Spu(n_clusters, clusters, gu_users,S_pu_list, 0.2, 0.1)\n",
    "    for u in list(range(n_users)):\n",
    "      storetrainingerror = []\n",
    "\n",
    "      for pu in range(n_clusters):\n",
    "        gu = compute_gu(pu, u)\n",
    "\n",
    "        modR = sum(R[u,:])\n",
    "        training_error = 0\n",
    "        for i, Ruitem in enumerate(R[u,:]):\n",
    "          if Ruitem == 1:\n",
    "            diff = RR[u, i]\n",
    "            rui = 0\n",
    "            for l, Ruitem in enumerate(R[u,:]):\n",
    "              if Ruitem == 1:\n",
    "                rui += S_pu_list[pu][l,i]\n",
    "            diff -= rui\n",
    "            training_error+= diff**2\n",
    "        training_error /= modR\n",
    "        training_error = np.sqrt(training_error)\n",
    "        storetrainingerror.append(training_error)\n",
    "      argminpu = np.argmin(storetrainingerror)\n",
    "      if u not in clusters[argminpu]:\n",
    "        for k in range(n_clusters):\n",
    "          if u in clusters[k]:\n",
    "            clusters[k].remove(u)\n",
    "        clusters[argminpu].append(u)\n",
    "        count +=1\n",
    "      gu_users[u] = gu\n",
    "    print(count/n_users)\n",
    "    if count/n_users <= 0.05:\n",
    "      break\n",
    "  return clusters, S_pu_list"
   ]
  },
  {
   "cell_type": "code",
   "execution_count": 64,
   "metadata": {},
   "outputs": [
    {
     "name": "stdout",
     "output_type": "stream",
     "text": [
      "initial cluster:  [[6, 5, 4], [16, 1, 8], [3, 2, 10], [0, 13, 7], [15, 11, 14, 9, 12]]\n",
      "0.0\n"
     ]
    }
   ],
   "source": [
    "clusters, S_pu_list = lslim(S_pu_list)"
   ]
  },
  {
   "cell_type": "code",
   "execution_count": 65,
   "metadata": {},
   "outputs": [],
   "source": [
    "n_clusters=5\n",
    "Rpu_list = []\n",
    "for cluster in clusters:\n",
    "    Rpu = np.zeros((n_users, n_items))\n",
    "    for user in cluster:\n",
    "        for ind, item in enumerate(R[user, :]):\n",
    "            if item == 1:\n",
    "                Rpu[user, ind] = 1\n",
    "    Rpu_list.append(Rpu)"
   ]
  },
  {
   "cell_type": "code",
   "execution_count": 66,
   "metadata": {},
   "outputs": [
    {
     "name": "stdout",
     "output_type": "stream",
     "text": [
      "[3, 25, 59, 78, 97, 190, 289, 698, 992, 1032, 1084, 1096, 141, 1187, 14, 1190, 1323]\n"
     ]
    }
   ],
   "source": [
    "# Sample NumPy matrix\n",
    "matrix = np.copy(R)\n",
    "\n",
    "# Initialize list to store random indices\n",
    "random_indices = []\n",
    "\n",
    "# Iterate over each row\n",
    "for row in matrix:\n",
    "    # Get indices of non-zero elements in the row\n",
    "    nonzero_indices = np.nonzero(row)[0]\n",
    "    if len(nonzero_indices) > 0:\n",
    "        # Choose one random index from the non-zero indices\n",
    "        random_index = np.random.choice(nonzero_indices)\n",
    "        random_indices.append(random_index)\n",
    "\n",
    "print(random_indices)"
   ]
  },
  {
   "cell_type": "code",
   "execution_count": 67,
   "metadata": {},
   "outputs": [],
   "source": [
    "for ind, row in enumerate(matrix):\n",
    "  row[random_indices[ind]] = 0"
   ]
  },
  {
   "cell_type": "code",
   "execution_count": 68,
   "metadata": {},
   "outputs": [],
   "source": [
    "#run glslim on this data, get S and Spu matrices\n",
    "n_clusters = 5\n",
    "user_non_rated_item_predicted_ratings = []\n",
    "for u in list(range(n_users)):\n",
    "  user_store_for_each_item = []\n",
    "  for i, Ruitem in enumerate(matrix[u,:]):\n",
    "    rui = 0\n",
    "    if Ruitem == 0.0:\n",
    "\n",
    "      user_pu = 0\n",
    "      for pu in range(n_clusters):\n",
    "          if u in clusters[pu]:\n",
    "            user_pu = pu\n",
    "      for l, Ruitem in enumerate(R[u,:]):\n",
    "        if Ruitem == 1:\n",
    "          rui += S_pu_list[user_pu][l,i]\n",
    "    user_store_for_each_item.append((i, rui))\n",
    "  user_store_for_each_item = sorted(user_store_for_each_item, key=lambda x: x[0], reverse=True)\n",
    "  user_non_rated_item_predicted_ratings.append(user_store_for_each_item)"
   ]
  },
  {
   "cell_type": "code",
   "execution_count": 69,
   "metadata": {},
   "outputs": [
    {
     "name": "stdout",
     "output_type": "stream",
     "text": [
      "Hit rate: 0.058823529411764705\n"
     ]
    }
   ],
   "source": [
    "hits = 0\n",
    "N = 20\n",
    "for user in range(n_users):\n",
    "    recommended_items = [t[0] for t in user_non_rated_item_predicted_ratings[user][:N]]\n",
    "    if random_indices[user] in recommended_items:\n",
    "        hits += 1\n",
    "\n",
    "hit_rate = hits / n_users\n",
    "\n",
    "print(\"Hit rate:\", hit_rate)"
   ]
  },
  {
   "cell_type": "code",
   "execution_count": null,
   "metadata": {},
   "outputs": [],
   "source": []
  }
 ],
 "metadata": {
  "colab": {
   "provenance": []
  },
  "kernelspec": {
   "display_name": "Python 3 (ipykernel)",
   "language": "python",
   "name": "python3"
  },
  "language_info": {
   "codemirror_mode": {
    "name": "ipython",
    "version": 3
   },
   "file_extension": ".py",
   "mimetype": "text/x-python",
   "name": "python",
   "nbconvert_exporter": "python",
   "pygments_lexer": "ipython3",
   "version": "3.9.19"
  }
 },
 "nbformat": 4,
 "nbformat_minor": 1
}
